{
 "cells": [
  {
   "cell_type": "markdown",
   "metadata": {},
   "source": [
    "# Array computation with Bodo"
   ]
  },
  {
   "cell_type": "markdown",
   "metadata": {},
   "source": [
    "Bodo allows for JIT-compiled and MPI-distributed code execution for Numpy- and Pandas-based programs. \n",
    "\n",
    "First, we'll import what we need."
   ]
  },
  {
   "cell_type": "code",
   "execution_count": 1,
   "metadata": {},
   "outputs": [
    {
     "name": "stdout",
     "output_type": "stream",
     "text": [
      "[stdout:0] /home/dale/Documents/bodo-benchmarks/notebooks\n",
      "[stdout:1] /home/dale/Documents/bodo-benchmarks/notebooks\n",
      "[stdout:2] /home/dale/Documents/bodo-benchmarks/notebooks\n",
      "[stdout:3] /home/dale/Documents/bodo-benchmarks/notebooks\n"
     ]
    }
   ],
   "source": [
    "import bodo\n",
    "import numpy as np\n",
    "import pandas as pd\n",
    "import ipyparallel as ipp\n",
    "import numba\n",
    "c = ipp.Client(profile=\"mpi\")\n",
    "view = c[:]\n",
    "view.activate()\n",
    "view.block = True\n",
    "import os\n",
    "view[\"cwd\"] = os.getcwd()\n",
    "%px cd $cwd"
   ]
  },
  {
   "cell_type": "markdown",
   "metadata": {},
   "source": [
    "Since Bodo extends Numba, without any parallelism we can see some code acceleration for basic loop-based code. Here we have a basic matrix multiply function and we can see that Bodo performs similarly to Numba."
   ]
  },
  {
   "cell_type": "code",
   "execution_count": 2,
   "metadata": {},
   "outputs": [],
   "source": [
    "def matmul(a,b):\n",
    "    out = np.zeros((a.shape[0], b.shape[1]), dtype=a.dtype)\n",
    "    for i in range(a.shape[0]):\n",
    "        for j in range(b.shape[0]):\n",
    "            for k in range(a.shape[1]):\n",
    "                out[i,k] += a[i,j] * b[j,k]\n",
    "    return out\n",
    "\n",
    "numba_matmul = numba.jit(matmul)\n",
    "bodo_matmul = bodo.jit(matmul)"
   ]
  },
  {
   "cell_type": "code",
   "execution_count": 3,
   "metadata": {},
   "outputs": [],
   "source": [
    "a = np.random.random((100,100))\n",
    "b = np.random.random((100,100))"
   ]
  },
  {
   "cell_type": "code",
   "execution_count": 4,
   "metadata": {},
   "outputs": [
    {
     "data": {
      "text/plain": [
       "True"
      ]
     },
     "execution_count": 4,
     "metadata": {},
     "output_type": "execute_result"
    }
   ],
   "source": [
    "np.allclose(a.dot(b), matmul(a,b))"
   ]
  },
  {
   "cell_type": "code",
   "execution_count": 5,
   "metadata": {},
   "outputs": [
    {
     "name": "stdout",
     "output_type": "stream",
     "text": [
      "603 ms ± 10.5 ms per loop (mean ± std. dev. of 7 runs, 1 loop each)\n"
     ]
    }
   ],
   "source": [
    "%timeit out = matmul(a,b)"
   ]
  },
  {
   "cell_type": "code",
   "execution_count": 6,
   "metadata": {},
   "outputs": [
    {
     "name": "stdout",
     "output_type": "stream",
     "text": [
      "202 µs ± 13.7 µs per loop (mean ± std. dev. of 7 runs, 10000 loops each)\n"
     ]
    }
   ],
   "source": [
    "%timeit out = numba_matmul(a,b)"
   ]
  },
  {
   "cell_type": "code",
   "execution_count": 7,
   "metadata": {},
   "outputs": [
    {
     "name": "stdout",
     "output_type": "stream",
     "text": [
      "198 µs ± 26.5 µs per loop (mean ± std. dev. of 7 runs, 1 loop each)\n"
     ]
    },
    {
     "name": "stderr",
     "output_type": "stream",
     "text": [
      "/home/dale/anaconda3/envs/Bodo/lib/python3.8/site-packages/bodo/transforms/distributed_analysis.py:180: BodoWarning: No parallelism found for function 'matmul'. This could be due to unsupported usage. See distributed diagnostics for more information.\n",
      "  warnings.warn(BodoWarning(\n"
     ]
    }
   ],
   "source": [
    "%timeit out = bodo_matmul(a,b)"
   ]
  },
  {
   "cell_type": "markdown",
   "metadata": {},
   "source": [
    "While Bodo is certainly effective at accerating algorithmic code, it is designed for use in standard analysis pipelines. Here we can generate a random array compute the sum across the first axis and return a slice of the result."
   ]
  },
  {
   "cell_type": "code",
   "execution_count": 8,
   "metadata": {},
   "outputs": [
    {
     "name": "stdout",
     "output_type": "stream",
     "text": [
      "CPU times: user 1.39 s, sys: 39.3 ms, total: 1.43 s\n",
      "Wall time: 1.43 s\n"
     ]
    }
   ],
   "source": [
    "%%time\n",
    "\n",
    "# using Numpy\n",
    "x = np.random.normal(10, 0.1, size=(8000, 8000))\n",
    "y = x.sum(axis=0)[::100]"
   ]
  },
  {
   "cell_type": "code",
   "execution_count": 9,
   "metadata": {},
   "outputs": [
    {
     "name": "stderr",
     "output_type": "stream",
     "text": [
      "/home/dale/anaconda3/envs/Bodo/lib/python3.8/site-packages/bodo/transforms/distributed_analysis.py:180: BodoWarning: No parallelism found for function 'array_sum'. This could be due to unsupported usage. See distributed diagnostics for more information.\n",
      "  warnings.warn(BodoWarning(\n"
     ]
    },
    {
     "name": "stdout",
     "output_type": "stream",
     "text": [
      "CPU times: user 2.02 s, sys: 36 ms, total: 2.06 s\n",
      "Wall time: 2.05 s\n"
     ]
    }
   ],
   "source": [
    "%%time\n",
    "\n",
    "# using Bodo\n",
    "x = np.random.normal(10, 0.1, size=(8000, 8000))\n",
    "\n",
    "@bodo.jit\n",
    "def array_sum(x):    \n",
    "    y = x.sum(axis=0)[::100]\n",
    "array_sum(x)"
   ]
  },
  {
   "cell_type": "markdown",
   "metadata": {},
   "source": [
    "As we can see from the warning we didn't get any parallelism from this function. To enable MPI inside of a Jupyter notebook we need to use the %%px cell magic. Also, inside the JIT decorator we can tell Bodo what objects we would like to distribute. In this case, we'll distribute the array 'x'."
   ]
  },
  {
   "cell_type": "code",
   "execution_count": 10,
   "metadata": {},
   "outputs": [
    {
     "name": "stdout",
     "output_type": "stream",
     "text": [
      "[stdout:0] \n",
      "CPU times: user 2.38 s, sys: 70.6 ms, total: 2.45 s\n",
      "Wall time: 2.45 s\n",
      "[stdout:1] \n",
      "CPU times: user 2.4 s, sys: 37 ms, total: 2.44 s\n",
      "Wall time: 2.44 s\n",
      "[stdout:2] \n",
      "CPU times: user 2.45 s, sys: 70 ms, total: 2.52 s\n",
      "Wall time: 2.54 s\n",
      "[stdout:3] \n",
      "CPU times: user 2.57 s, sys: 41.9 ms, total: 2.61 s\n",
      "Wall time: 2.61 s\n"
     ]
    }
   ],
   "source": [
    "%%px\n",
    "%%time\n",
    "\n",
    "\n",
    "import numpy as np\n",
    "import bodo\n",
    "\n",
    "x = np.random.normal(10, 0.1, size=(8000, 8000))\n",
    "\n",
    "@bodo.jit(distributed=['x'])\n",
    "def array_sum(x):\n",
    "    y = x.sum(axis=0)[::100]\n",
    "array_sum(x)"
   ]
  },
  {
   "cell_type": "markdown",
   "metadata": {},
   "source": [
    "Bodo support a large portion of the Numpy.ndarray API. Here we can see how it performs with matrix multiply and elementwise multiply."
   ]
  },
  {
   "cell_type": "code",
   "execution_count": 15,
   "metadata": {},
   "outputs": [
    {
     "name": "stdout",
     "output_type": "stream",
     "text": [
      "CPU times: user 1.42 s, sys: 36.1 ms, total: 1.45 s\n",
      "Wall time: 1.48 s\n"
     ]
    },
    {
     "data": {
      "text/plain": [
       "array([[6613.10857233, 4985.22299454, 4967.0096968 , ..., 4944.15787411,\n",
       "        4962.45570918, 5024.09110694],\n",
       "       [4985.22299454, 6641.94719669, 4980.24049265, ..., 4966.06562832,\n",
       "        4954.87059481, 5048.20910047],\n",
       "       [4967.0096968 , 4980.24049265, 6618.30575987, ..., 4943.68686453,\n",
       "        4960.93817956, 5035.38475147],\n",
       "       ...,\n",
       "       [4944.15787411, 4966.06562832, 4943.68686453, ..., 6676.50723882,\n",
       "        4958.39803417, 5008.26384702],\n",
       "       [4962.45570918, 4954.87059481, 4960.93817956, ..., 4958.39803417,\n",
       "        6609.38072068, 5001.54931209],\n",
       "       [5024.09110694, 5048.20910047, 5035.38475147, ..., 5008.26384702,\n",
       "        5001.54931209, 6771.24013721]])"
      ]
     },
     "execution_count": 15,
     "metadata": {},
     "output_type": "execute_result"
    }
   ],
   "source": [
    "%%time\n",
    "A = np.random.random((4000,4000))\n",
    "A.dot(A.T) * 5"
   ]
  },
  {
   "cell_type": "code",
   "execution_count": 17,
   "metadata": {},
   "outputs": [
    {
     "name": "stdout",
     "output_type": "stream",
     "text": [
      "[stdout:0] \n",
      "CPU times: user 4.48 s, sys: 148 ms, total: 4.63 s\n",
      "Wall time: 4.62 s\n",
      "[stdout:1] \n",
      "CPU times: user 4.55 s, sys: 127 ms, total: 4.68 s\n",
      "Wall time: 4.66 s\n",
      "[stdout:2] \n",
      "CPU times: user 4.53 s, sys: 111 ms, total: 4.64 s\n",
      "Wall time: 4.62 s\n",
      "[stdout:3] \n",
      "CPU times: user 4.59 s, sys: 131 ms, total: 4.72 s\n",
      "Wall time: 4.7 s\n"
     ]
    },
    {
     "name": "stderr",
     "output_type": "stream",
     "text": [
      "[stderr:0] \n",
      "/home/dale/anaconda3/envs/Bodo/lib/python3.8/site-packages/bodo/transforms/distributed_analysis.py:180: BodoWarning: No parallelism found for function 'dot'. This could be due to unsupported usage. See distributed diagnostics for more information.\n",
      "  warnings.warn(BodoWarning(\n",
      "[stderr:1] \n",
      "/home/dale/anaconda3/envs/Bodo/lib/python3.8/site-packages/bodo/transforms/distributed_analysis.py:180: BodoWarning: No parallelism found for function 'dot'. This could be due to unsupported usage. See distributed diagnostics for more information.\n",
      "  warnings.warn(BodoWarning(\n",
      "[stderr:2] \n",
      "/home/dale/anaconda3/envs/Bodo/lib/python3.8/site-packages/bodo/transforms/distributed_analysis.py:180: BodoWarning: No parallelism found for function 'dot'. This could be due to unsupported usage. See distributed diagnostics for more information.\n",
      "  warnings.warn(BodoWarning(\n",
      "[stderr:3] \n",
      "/home/dale/anaconda3/envs/Bodo/lib/python3.8/site-packages/bodo/transforms/distributed_analysis.py:180: BodoWarning: No parallelism found for function 'dot'. This could be due to unsupported usage. See distributed diagnostics for more information.\n",
      "  warnings.warn(BodoWarning(\n"
     ]
    },
    {
     "data": {
      "text/plain": [
       "\u001b[0;31mOut[0:13]: \u001b[0m\n",
       "array([[6549.31493325, 4934.71881109, 4854.00281397, ..., 4943.82146498,\n",
       "        5013.17831785, 4879.60686016],\n",
       "       [4934.71881109, 6690.74829348, 4942.71338107, ..., 5051.67575504,\n",
       "        5017.53486812, 4943.84624566],\n",
       "       [4854.00281397, 4942.71338107, 6576.72292076, ..., 4997.46079528,\n",
       "        5008.23689438, 4926.81070032],\n",
       "       ...,\n",
       "       [4943.82146498, 5051.67575504, 4997.46079528, ..., 6749.56177356,\n",
       "        5105.19363168, 5004.15213347],\n",
       "       [5013.17831785, 5017.53486812, 5008.23689438, ..., 5105.19363168,\n",
       "        6793.5573002 , 5031.60800397],\n",
       "       [4879.60686016, 4943.84624566, 4926.81070032, ..., 5004.15213347,\n",
       "        5031.60800397, 6601.60650939]])"
      ]
     },
     "metadata": {
      "after": [],
      "completed": "2021-01-13T16:54:44.948332",
      "data": {},
      "engine_id": 0,
      "engine_uuid": "8d8c035b-6ffb856c2cc5d43cab74d3e4",
      "error": null,
      "execute_input": "%%time\n\nimport numpy as np\nimport bodo\n\n@bodo.jit\ndef dot():\n    A = np.random.random((4000,4000))\n    return A.dot(A.T) * 5\ndot()\n",
      "execute_result": {
       "data": {
        "text/plain": "array([[6549.31493325, 4934.71881109, 4854.00281397, ..., 4943.82146498,\n        5013.17831785, 4879.60686016],\n       [4934.71881109, 6690.74829348, 4942.71338107, ..., 5051.67575504,\n        5017.53486812, 4943.84624566],\n       [4854.00281397, 4942.71338107, 6576.72292076, ..., 4997.46079528,\n        5008.23689438, 4926.81070032],\n       ...,\n       [4943.82146498, 5051.67575504, 4997.46079528, ..., 6749.56177356,\n        5105.19363168, 5004.15213347],\n       [5013.17831785, 5017.53486812, 5008.23689438, ..., 5105.19363168,\n        6793.5573002 , 5031.60800397],\n       [4879.60686016, 4943.84624566, 4926.81070032, ..., 5004.15213347,\n        5031.60800397, 6601.60650939]])"
       },
       "execution_count": 13,
       "metadata": {}
      },
      "follow": [],
      "msg_id": "0a9ff769-ee0c476e63e105d94a09f4ce_29",
      "outputs": [],
      "received": "2021-01-13T16:54:44.950888",
      "started": "2021-01-13T16:54:40.324974",
      "status": "ok",
      "stderr": "/home/dale/anaconda3/envs/Bodo/lib/python3.8/site-packages/bodo/transforms/distributed_analysis.py:180: BodoWarning: No parallelism found for function 'dot'. This could be due to unsupported usage. See distributed diagnostics for more information.\n  warnings.warn(BodoWarning(\n",
      "stdout": "CPU times: user 4.48 s, sys: 148 ms, total: 4.63 s\nWall time: 4.62 s\n",
      "submitted": "2021-01-13T16:54:40.321168"
     },
     "output_type": "display_data"
    },
    {
     "data": {
      "text/plain": [
       "\u001b[0;31mOut[1:13]: \u001b[0m\n",
       "array([[6561.94382376, 5050.62079619, 4928.85175852, ..., 4860.17007196,\n",
       "        4971.20655104, 4879.67868334],\n",
       "       [5050.62079619, 6828.79771849, 5166.43391521, ..., 5066.12086631,\n",
       "        5097.69170661, 5034.09766605],\n",
       "       [4928.85175852, 5166.43391521, 6712.05720872, ..., 5011.95407599,\n",
       "        4958.44056326, 5018.71360619],\n",
       "       ...,\n",
       "       [4860.17007196, 5066.12086631, 5011.95407599, ..., 6558.52038069,\n",
       "        4995.72217924, 4945.14494714],\n",
       "       [4971.20655104, 5097.69170661, 4958.44056326, ..., 4995.72217924,\n",
       "        6679.83092895, 4959.98391125],\n",
       "       [4879.67868334, 5034.09766605, 5018.71360619, ..., 4945.14494714,\n",
       "        4959.98391125, 6605.17063217]])"
      ]
     },
     "metadata": {
      "after": [],
      "completed": "2021-01-13T16:54:44.992997",
      "data": {},
      "engine_id": 1,
      "engine_uuid": "81c3be36-f87778de801079df7d22a67d",
      "error": null,
      "execute_input": "%%time\n\nimport numpy as np\nimport bodo\n\n@bodo.jit\ndef dot():\n    A = np.random.random((4000,4000))\n    return A.dot(A.T) * 5\ndot()\n",
      "execute_result": {
       "data": {
        "text/plain": "array([[6561.94382376, 5050.62079619, 4928.85175852, ..., 4860.17007196,\n        4971.20655104, 4879.67868334],\n       [5050.62079619, 6828.79771849, 5166.43391521, ..., 5066.12086631,\n        5097.69170661, 5034.09766605],\n       [4928.85175852, 5166.43391521, 6712.05720872, ..., 5011.95407599,\n        4958.44056326, 5018.71360619],\n       ...,\n       [4860.17007196, 5066.12086631, 5011.95407599, ..., 6558.52038069,\n        4995.72217924, 4945.14494714],\n       [4971.20655104, 5097.69170661, 4958.44056326, ..., 4995.72217924,\n        6679.83092895, 4959.98391125],\n       [4879.67868334, 5034.09766605, 5018.71360619, ..., 4945.14494714,\n        4959.98391125, 6605.17063217]])"
       },
       "execution_count": 13,
       "metadata": {}
      },
      "follow": [],
      "msg_id": "0a9ff769-ee0c476e63e105d94a09f4ce_30",
      "outputs": [],
      "received": "2021-01-13T16:54:44.994647",
      "started": "2021-01-13T16:54:40.324679",
      "status": "ok",
      "stderr": "/home/dale/anaconda3/envs/Bodo/lib/python3.8/site-packages/bodo/transforms/distributed_analysis.py:180: BodoWarning: No parallelism found for function 'dot'. This could be due to unsupported usage. See distributed diagnostics for more information.\n  warnings.warn(BodoWarning(\n",
      "stdout": "CPU times: user 4.55 s, sys: 127 ms, total: 4.68 s\nWall time: 4.66 s\n",
      "submitted": "2021-01-13T16:54:40.321542"
     },
     "output_type": "display_data"
    },
    {
     "data": {
      "text/plain": [
       "\u001b[0;31mOut[2:13]: \u001b[0m\n",
       "array([[6638.78930873, 4954.86227183, 4929.13692585, ..., 4929.40446717,\n",
       "        4986.7108257 , 4988.89217535],\n",
       "       [4954.86227183, 6569.7342018 , 4919.06699744, ..., 4933.28317015,\n",
       "        4987.33531995, 4881.66082614],\n",
       "       [4929.13692585, 4919.06699744, 6646.73912693, ..., 4864.80317895,\n",
       "        5004.22205429, 4940.04506403],\n",
       "       ...,\n",
       "       [4929.40446717, 4933.28317015, 4864.80317895, ..., 6562.06352389,\n",
       "        4975.00797189, 4922.02962773],\n",
       "       [4986.7108257 , 4987.33531995, 5004.22205429, ..., 4975.00797189,\n",
       "        6724.50281105, 4979.87894362],\n",
       "       [4988.89217535, 4881.66082614, 4940.04506403, ..., 4922.02962773,\n",
       "        4979.87894362, 6601.58659428]])"
      ]
     },
     "metadata": {
      "after": [],
      "completed": "2021-01-13T16:54:44.955033",
      "data": {},
      "engine_id": 2,
      "engine_uuid": "c6adc1f7-470f934a6eb55917651fb292",
      "error": null,
      "execute_input": "%%time\n\nimport numpy as np\nimport bodo\n\n@bodo.jit\ndef dot():\n    A = np.random.random((4000,4000))\n    return A.dot(A.T) * 5\ndot()\n",
      "execute_result": {
       "data": {
        "text/plain": "array([[6638.78930873, 4954.86227183, 4929.13692585, ..., 4929.40446717,\n        4986.7108257 , 4988.89217535],\n       [4954.86227183, 6569.7342018 , 4919.06699744, ..., 4933.28317015,\n        4987.33531995, 4881.66082614],\n       [4929.13692585, 4919.06699744, 6646.73912693, ..., 4864.80317895,\n        5004.22205429, 4940.04506403],\n       ...,\n       [4929.40446717, 4933.28317015, 4864.80317895, ..., 6562.06352389,\n        4975.00797189, 4922.02962773],\n       [4986.7108257 , 4987.33531995, 5004.22205429, ..., 4975.00797189,\n        6724.50281105, 4979.87894362],\n       [4988.89217535, 4881.66082614, 4940.04506403, ..., 4922.02962773,\n        4979.87894362, 6601.58659428]])"
       },
       "execution_count": 13,
       "metadata": {}
      },
      "follow": [],
      "msg_id": "0a9ff769-ee0c476e63e105d94a09f4ce_31",
      "outputs": [],
      "received": "2021-01-13T16:54:44.956763",
      "started": "2021-01-13T16:54:40.325082",
      "status": "ok",
      "stderr": "/home/dale/anaconda3/envs/Bodo/lib/python3.8/site-packages/bodo/transforms/distributed_analysis.py:180: BodoWarning: No parallelism found for function 'dot'. This could be due to unsupported usage. See distributed diagnostics for more information.\n  warnings.warn(BodoWarning(\n",
      "stdout": "CPU times: user 4.53 s, sys: 111 ms, total: 4.64 s\nWall time: 4.62 s\n",
      "submitted": "2021-01-13T16:54:40.321795"
     },
     "output_type": "display_data"
    },
    {
     "data": {
      "text/plain": [
       "\u001b[0;31mOut[3:13]: \u001b[0m\n",
       "array([[6458.97497218, 4933.51340083, 4887.48950067, ..., 4896.80684146,\n",
       "        4901.90465838, 4936.62178744],\n",
       "       [4933.51340083, 6764.10891506, 5051.44551924, ..., 5029.93870267,\n",
       "        5005.24567035, 5090.85666185],\n",
       "       [4887.48950067, 5051.44551924, 6607.58719422, ..., 4931.07005764,\n",
       "        4965.65978352, 5005.98816171],\n",
       "       ...,\n",
       "       [4896.80684146, 5029.93870267, 4931.07005764, ..., 6633.90954576,\n",
       "        4920.26418979, 5024.89828036],\n",
       "       [4901.90465838, 5005.24567035, 4965.65978352, ..., 4920.26418979,\n",
       "        6616.47527018, 5034.33736194],\n",
       "       [4936.62178744, 5090.85666185, 5005.98816171, ..., 5024.89828036,\n",
       "        5034.33736194, 6724.25547082]])"
      ]
     },
     "metadata": {
      "after": [],
      "completed": "2021-01-13T16:54:45.032250",
      "data": {},
      "engine_id": 3,
      "engine_uuid": "22b349fa-e48aba1fe92cca72f4178d38",
      "error": null,
      "execute_input": "%%time\n\nimport numpy as np\nimport bodo\n\n@bodo.jit\ndef dot():\n    A = np.random.random((4000,4000))\n    return A.dot(A.T) * 5\ndot()\n",
      "execute_result": {
       "data": {
        "text/plain": "array([[6458.97497218, 4933.51340083, 4887.48950067, ..., 4896.80684146,\n        4901.90465838, 4936.62178744],\n       [4933.51340083, 6764.10891506, 5051.44551924, ..., 5029.93870267,\n        5005.24567035, 5090.85666185],\n       [4887.48950067, 5051.44551924, 6607.58719422, ..., 4931.07005764,\n        4965.65978352, 5005.98816171],\n       ...,\n       [4896.80684146, 5029.93870267, 4931.07005764, ..., 6633.90954576,\n        4920.26418979, 5024.89828036],\n       [4901.90465838, 5005.24567035, 4965.65978352, ..., 4920.26418979,\n        6616.47527018, 5034.33736194],\n       [4936.62178744, 5090.85666185, 5005.98816171, ..., 5024.89828036,\n        5034.33736194, 6724.25547082]])"
       },
       "execution_count": 13,
       "metadata": {}
      },
      "follow": [],
      "msg_id": "0a9ff769-ee0c476e63e105d94a09f4ce_32",
      "outputs": [],
      "received": "2021-01-13T16:54:45.033657",
      "started": "2021-01-13T16:54:40.325126",
      "status": "ok",
      "stderr": "/home/dale/anaconda3/envs/Bodo/lib/python3.8/site-packages/bodo/transforms/distributed_analysis.py:180: BodoWarning: No parallelism found for function 'dot'. This could be due to unsupported usage. See distributed diagnostics for more information.\n  warnings.warn(BodoWarning(\n",
      "stdout": "CPU times: user 4.59 s, sys: 131 ms, total: 4.72 s\nWall time: 4.7 s\n",
      "submitted": "2021-01-13T16:54:40.321972"
     },
     "output_type": "display_data"
    }
   ],
   "source": [
    "%%px\n",
    "%%time\n",
    "\n",
    "import numpy as np\n",
    "import bodo\n",
    "\n",
    "@bodo.jit\n",
    "def dot():\n",
    "    A = np.random.random((4000,4000))\n",
    "    return A.dot(A.T) * 5\n",
    "dot()"
   ]
  },
  {
   "cell_type": "code",
   "execution_count": null,
   "metadata": {},
   "outputs": [],
   "source": []
  }
 ],
 "metadata": {
  "kernelspec": {
   "display_name": "Python 3",
   "language": "python",
   "name": "python3"
  },
  "language_info": {
   "codemirror_mode": {
    "name": "ipython",
    "version": 3
   },
   "file_extension": ".py",
   "mimetype": "text/x-python",
   "name": "python",
   "nbconvert_exporter": "python",
   "pygments_lexer": "ipython3",
   "version": "3.8.5"
  }
 },
 "nbformat": 4,
 "nbformat_minor": 4
}
