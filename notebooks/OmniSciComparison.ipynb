{
 "cells": [
  {
   "cell_type": "markdown",
   "metadata": {},
   "source": [
    "# Comparison between OmniSci and Bodo"
   ]
  },
  {
   "cell_type": "code",
   "execution_count": null,
   "metadata": {},
   "outputs": [],
   "source": []
  },
  {
   "cell_type": "markdown",
   "metadata": {},
   "source": [
    "## Setup\n",
    "\n",
    "First, you probably will need to download the NYC Yellow taxi data from 2015.\n",
    "Uncomment the following code and change the **DATA_DIR** to your local directory, so you can run the cell."
   ]
  },
  {
   "cell_type": "code",
   "execution_count": null,
   "metadata": {},
   "outputs": [],
   "source": [
    "import time\n",
    "import pandas as pd"
   ]
  },
  {
   "cell_type": "code",
   "execution_count": null,
   "metadata": {},
   "outputs": [],
   "source": [
    "\"\"\"\n",
    "%%bash\n",
    "\n",
    "URL_ROOT=https://s3.amazonaws.com/nyc-tlc/trip+data\n",
    "DATA_DIR=/work/bodoai/dataset/nyc-trip-2015\n",
    "\n",
    "for i in {1..12}; do\n",
    "    month=`printf \"%2.0d\\n\" $i |sed \"s/ /0/\"`;\n",
    "    FILENAME=yellow_tripdata_2015-${month}.csv;\n",
    "    # wget -c ${URL_ROOT}/${FILENAME} -O ${DATA_DIR}/${FILENAME};\n",
    "done\n",
    "\"\"\";"
   ]
  },
  {
   "cell_type": "markdown",
   "metadata": {},
   "source": [
    "As **bodo** **read_csv** works easily with constant paths than variable paths, you can link this folder inside our current path (optional, uncomment the code below if you want to run it)."
   ]
  },
  {
   "cell_type": "code",
   "execution_count": null,
   "metadata": {},
   "outputs": [],
   "source": [
    "\"\"\"\n",
    "%%bash\n",
    "\n",
    "mkdir -p ./data\n",
    "ln -s /work/bodoai/dataset/nyc-trip-2015 ./data\n",
    "\"\"\";"
   ]
  },
  {
   "cell_type": "code",
   "execution_count": null,
   "metadata": {},
   "outputs": [],
   "source": [
    "!ls ./data/nyc-trip-2015"
   ]
  },
  {
   "cell_type": "markdown",
   "metadata": {},
   "source": [
    "As it is easier to work with `parquet` file than `csv` files, we will convert the `csv` files to a single `parquet` file (for now lets just use the first 3 files)."
   ]
  },
  {
   "cell_type": "code",
   "execution_count": null,
   "metadata": {},
   "outputs": [],
   "source": [
    "dfs = []\n",
    "data_dir = './data/nyc-trip-2015'\n",
    "\n",
    "for i in range(1, 4):\n",
    "    df = pd.read_csv(\n",
    "        f'{data_dir}/yellow_tripdata_2015-{str(i).rjust(2, \"0\")}.csv',\n",
    "        parse_dates=['tpep_pickup_datetime', 'tpep_dropoff_datetime'],\n",
    "    )\n",
    "    dfs.append(df)\n",
    "    del df\n",
    "\n",
    "df = pd.concat(dfs)\n",
    "df.to_parquet('./data/nyc-trip-2015/q1.pq')\n",
    "del df"
   ]
  },
  {
   "cell_type": "code",
   "execution_count": null,
   "metadata": {},
   "outputs": [],
   "source": [
    "!ls ./data/nyc-trip-2015"
   ]
  },
  {
   "cell_type": "markdown",
   "metadata": {},
   "source": [
    "The next step now is to load this data to **OmniSci Database**. This document \n",
    "will not explain how to install and start up a **OmniSciDB** instance. For more information, \n",
    "check the [official documentation](https://docs.omnisci.com/installation-and-configuration/installation).\n",
    "\n",
    "With the **OmniSciDB** running, lets create the table and load the data there."
   ]
  },
  {
   "cell_type": "code",
   "execution_count": null,
   "metadata": {},
   "outputs": [],
   "source": [
    "%%bash\n",
    "\n",
    "source activate omniscidb\n",
    "\n",
    "# echo \"DROP TABLE IF EXISTS trips;\" | omnisql -u admin -p HyperInteractive --port 6274\n",
    "omnisql -u admin -p HyperInteractive --port 6274 < ../_setup/omnisci/schema_nyc2015.sql || true"
   ]
  },
  {
   "cell_type": "code",
   "execution_count": null,
   "metadata": {},
   "outputs": [],
   "source": [
    "%%bash\n",
    "\n",
    "source activate omniscidb\n",
    "\n",
    "DATA_DIR=$(pwd)/data/nyc-trip-2015\n",
    "\n",
    "for filename in ${DATA_DIR}/*.csv; do\n",
    "  echo \"COPY trips FROM '$filename' WITH (header='false');\" | \\\n",
    "      omnisql -u admin -p HyperInteractive --port 6274\n",
    "done"
   ]
  },
  {
   "cell_type": "markdown",
   "metadata": {},
   "source": [
    "Now, it is ready to start, in the next sections we will compare the \n",
    "performance for some operations using **Bodo** and using **OmniSci**.\n",
    "\n",
    "The functions that would be measured are: ...\n",
    "\n",
    "- (f1) the average of `total_amount` by `passanger_count`\n",
    "- (f2) the average of `total_amount` by `passenger_count` and `pickup_month`\n",
    "- (f3) the count of trips grouped by `passenger_count`, `pickup_month` and `payment_type`"
   ]
  },
  {
   "cell_type": "code",
   "execution_count": null,
   "metadata": {},
   "outputs": [],
   "source": [
    "funcs = {'f1': 0, 'f2': 0, 'f3': 0}\n",
    "\n",
    "timelog = {\n",
    "    'bodo': dict(funcs),\n",
    "    'omni': dict(funcs),\n",
    "}"
   ]
  },
  {
   "cell_type": "markdown",
   "metadata": {},
   "source": [
    "## Bodo"
   ]
  },
  {
   "cell_type": "code",
   "execution_count": null,
   "metadata": {},
   "outputs": [],
   "source": [
    "import bodo"
   ]
  },
  {
   "cell_type": "code",
   "execution_count": null,
   "metadata": {},
   "outputs": [],
   "source": [
    "@bodo.jit\n",
    "def read_data():\n",
    "    df = pd.read_parquet('./data/nyc-trip-2015/q1.pq')\n",
    "    return df\n",
    "\n",
    "\n",
    "df = read_data()\n",
    "df.info()"
   ]
  },
  {
   "cell_type": "markdown",
   "metadata": {},
   "source": [
    "#### (f1) the average of `total_amount` by `passanger_count`"
   ]
  },
  {
   "cell_type": "code",
   "execution_count": null,
   "metadata": {},
   "outputs": [],
   "source": [
    "@bodo.jit\n",
    "def f1(df_nyc):\n",
    "    return df_nyc.group_by('passenger_count').aggregate(\n",
    "        df_nyc.total_amount.mean().name('_mean')\n",
    "    )\n",
    "\n",
    "\n",
    "f1(df)"
   ]
  },
  {
   "cell_type": "markdown",
   "metadata": {},
   "source": [
    "#### (f2) the average of `total_amount` by `passenger_count` and `pickup_month`"
   ]
  },
  {
   "cell_type": "code",
   "execution_count": null,
   "metadata": {},
   "outputs": [],
   "source": [
    "@bodo.jit\n",
    "def f2(df_nyc):\n",
    "    return df_nyc.group_by(['passenger_count']).aggregate(\n",
    "        df_nyc.total_amount.mean().name('_mean')\n",
    "    )\n",
    "\n",
    "\n",
    "f2(df)"
   ]
  },
  {
   "cell_type": "markdown",
   "metadata": {},
   "source": [
    "#### (f3) the count of trips grouped by `passenger_count`, `pickup_month` and `payment_type`"
   ]
  },
  {
   "cell_type": "code",
   "execution_count": null,
   "metadata": {},
   "outputs": [],
   "source": []
  },
  {
   "cell_type": "markdown",
   "metadata": {},
   "source": [
    "## OmniSci\n",
    "\n",
    "Now, we will try the same operations using OmniSci <!-- with User-Defined Functions (UDFs)-->!\n",
    "First, we need to install `pymapd`"
   ]
  },
  {
   "cell_type": "code",
   "execution_count": null,
   "metadata": {},
   "outputs": [],
   "source": [
    "!pip install pymapd \"pyarrow==0.17\""
   ]
  },
  {
   "cell_type": "code",
   "execution_count": null,
   "metadata": {},
   "outputs": [],
   "source": [
    "import pymapd\n",
    "\n",
    "\n",
    "con = pymapd.connect(\n",
    "    user='admin', password='HyperInteractive',\n",
    "    host='127.0.0.1', port=6274, dbname='omnisci'\n",
    ")"
   ]
  },
  {
   "cell_type": "markdown",
   "metadata": {},
   "source": [
    "#### (f1) the average of total_amount by passanger_count"
   ]
  },
  {
   "cell_type": "code",
   "execution_count": null,
   "metadata": {},
   "outputs": [],
   "source": [
    "sql = '''\n",
    "SELECT AVG(total_amount) \n",
    "FROM trips\n",
    "GROUP BY passenger_count\n",
    "'''\n",
    "t0 = time.time()\n",
    "result = con.execute(sql)\n",
    "t1 = time.time()\n",
    "\n",
    "timelog['omni']['f1'] = t1 - t0\n",
    "\n",
    "for r in result:\n",
    "    print(r)"
   ]
  },
  {
   "cell_type": "markdown",
   "metadata": {},
   "source": [
    "#### (f2) the average of total_amount by passenger_count and pickup month"
   ]
  },
  {
   "cell_type": "code",
   "execution_count": null,
   "metadata": {},
   "outputs": [],
   "source": [
    "sql = '''\n",
    "SELECT AVG(total_amount) \n",
    "FROM (\n",
    "    SELECT \n",
    "        total_amount, \n",
    "        passenger_count,\n",
    "        EXTRACT(MONTH FROM tpep_pickup_datetime) AS pickup_month\n",
    "    FROM trips\n",
    ") AS _trips\n",
    "GROUP BY passenger_count, pickup_month\n",
    "'''\n",
    "t0 = time.time()\n",
    "result = con.execute(sql)\n",
    "t1 = time.time()\n",
    "\n",
    "timelog['omni']['f2'] = t1 - t0\n",
    "\n",
    "for r in result:\n",
    "    print(r)"
   ]
  },
  {
   "cell_type": "markdown",
   "metadata": {},
   "source": [
    "#### (f3) the count of trips grouped by passenger_count, pickup month and payment type"
   ]
  },
  {
   "cell_type": "code",
   "execution_count": null,
   "metadata": {},
   "outputs": [],
   "source": [
    "sql = '''\n",
    "SELECT AVG(total_amount) \n",
    "FROM (\n",
    "    SELECT \n",
    "        total_amount, \n",
    "        passenger_count,\n",
    "        EXTRACT(MONTH FROM tpep_pickup_datetime) AS pickup_year,\n",
    "        payment_type\n",
    "    FROM trips\n",
    ") AS _trips\n",
    "GROUP BY passenger_count, pickup_year, payment_type\n",
    "'''\n",
    "t0 = time.time()\n",
    "result = con.execute(sql)\n",
    "t1 = time.time()\n",
    "\n",
    "timelog['omni']['f3'] = t1 - t0\n",
    "\n",
    "for r in result:\n",
    "    print(r)"
   ]
  },
  {
   "cell_type": "markdown",
   "metadata": {},
   "source": [
    "## Benchmark Result"
   ]
  },
  {
   "cell_type": "code",
   "execution_count": null,
   "metadata": {},
   "outputs": [],
   "source": [
    "for tech_name, tech_result in timelog.items():\n",
    "    print(tech_name)\n",
    "    for f_name, f_time in tech_result.items():\n",
    "        print(f'{f_name}: {f_time}')"
   ]
  }
 ],
 "metadata": {
  "kernelspec": {
   "display_name": "Python 3",
   "language": "python",
   "name": "python3"
  },
  "language_info": {
   "codemirror_mode": {
    "name": "ipython",
    "version": 3
   },
   "file_extension": ".py",
   "mimetype": "text/x-python",
   "name": "python",
   "nbconvert_exporter": "python",
   "pygments_lexer": "ipython3",
   "version": "3.8.6"
  }
 },
 "nbformat": 4,
 "nbformat_minor": 4
}
