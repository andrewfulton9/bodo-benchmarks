{
 "cells": [
  {
   "cell_type": "markdown",
   "metadata": {},
   "source": [
    "<img src=\"img/logo.svg\" align=\"right\" style=\"background:black;height:50px; padding-left:5px;padding-right:5px;padding-bottom:0px;\">"
   ]
  },
  {
   "cell_type": "markdown",
   "metadata": {},
   "source": [
    "# Distributed, Advanced"
   ]
  },
  {
   "cell_type": "markdown",
   "metadata": {},
   "source": [
    "In the previous chapter, we saw how to configure and use bodo inside a \n",
    "**Jupyter notebook** using **IPython parallel** (and **MPI** under the hood)."
   ]
  },
  {
   "cell_type": "code",
   "execution_count": 1,
   "metadata": {},
   "outputs": [
    {
     "name": "stdout",
     "output_type": "stream",
     "text": [
      "[stdout:0] /home/xmn/dev/bodoai/bodo-benchmarks/notebooks\n",
      "[stdout:1] /home/xmn/dev/bodoai/bodo-benchmarks/notebooks\n",
      "[stdout:2] /home/xmn/dev/bodoai/bodo-benchmarks/notebooks\n",
      "[stdout:3] /home/xmn/dev/bodoai/bodo-benchmarks/notebooks\n"
     ]
    }
   ],
   "source": [
    "import ipyparallel as ipp\n",
    "\n",
    "c = ipp.Client(profile=\"mpi\")\n",
    "view = c[:]\n",
    "view.activate()\n",
    "view.block = True\n",
    "\n",
    "import os\n",
    "\n",
    "view[\"cwd\"] = os.getcwd()\n",
    "%px cd $cwd"
   ]
  },
  {
   "cell_type": "markdown",
   "metadata": {},
   "source": [
    "In this chapter, we will check how to debug and diagnosticate the distribution found by **bodo**."
   ]
  },
  {
   "cell_type": "markdown",
   "metadata": {},
   "source": [
    "## Distributed Diagnostics¶"
   ]
  },
  {
   "cell_type": "markdown",
   "metadata": {},
   "source": [
    "If you want to understand how a **bodo** compiled function is distributing internally the process,\n",
    "you can set the environment variable `BODO_DISTRIBUTED_DIAGNOSTICS=1` or you can call\n",
    "`distributed_diagnostics()` on the compiled function.\n",
    "\n",
    "For the examples here, we will measure the execution time inside the function to avoid\n",
    "the time for the function compilation (it maybe would add some extra unnecessary time\n",
    "to the function).\n",
    "\n",
    "So, lets start loading the same data we used in the previous chapter:"
   ]
  },
  {
   "cell_type": "code",
   "execution_count": 2,
   "metadata": {},
   "outputs": [
    {
     "name": "stdout",
     "output_type": "stream",
     "text": [
      "[stdout:0] 4.598684072494507 s\n"
     ]
    },
    {
     "name": "stderr",
     "output_type": "stream",
     "text": [
      "[stderr:0] \n",
      "/home/xmn/.conda/envs/bodoai-nb/lib/python3.8/site-packages/bodo/transforms/distributed_analysis.py:182: BodoWarning: No parallelism found for function 'read_flight_csv'. This could be due to unsupported usage. See distributed diagnostics for more information.\n",
      "  warnings.warn(BodoWarning(\n"
     ]
    }
   ],
   "source": [
    "%%px\n",
    "import time\n",
    "\n",
    "import bodo\n",
    "import pandas as pd\n",
    "import numpy as np\n",
    "\n",
    "@bodo.jit\n",
    "def read_flight_csv():\n",
    "    t0 = time.time()\n",
    "    df = pd.read_csv(\n",
    "        'data/nycflights/',\n",
    "        parse_dates={'Date': [0, 1, 2]},\n",
    "        # it needs all fields here\n",
    "        dtype={\n",
    "            'Year': np.int16,\n",
    "            'Month': np.int8,\n",
    "            'DayofMonth': np.int8,\n",
    "            'DayOfWeek': np.int8,\n",
    "            'DepTime': np.float32,\n",
    "            'CRSDepTime': np.float32,\n",
    "            'ArrTime': np.float32,\n",
    "            'CRSArrTime': np.float32,\n",
    "            'UniqueCarrier': str,\n",
    "            'FlightNum': np.int16,\n",
    "            'TailNum': str,\n",
    "            'ActualElapsedTime': np.float32,\n",
    "            'CRSElapsedTime': np.float32,\n",
    "            'AirTime': np.float32,\n",
    "            'ArrDelay': np.float32,\n",
    "            'DepDelay': np.float32,\n",
    "            'Origin': str,\n",
    "            'Dest': str,\n",
    "            'Distance': np.float32,\n",
    "            'TaxiIn': np.float32,\n",
    "            'TaxiOut': np.float32,\n",
    "            'Cancelled': np.bool_,\n",
    "            'Diverted': np.bool_,\n",
    "        }\n",
    "    )\n",
    "    t1 = time.time()\n",
    "    print(t1 - t0, 's')\n",
    "    return df\n",
    "\n",
    "\n",
    "df = read_flight_csv()\n"
   ]
  },
  {
   "cell_type": "markdown",
   "metadata": {},
   "source": [
    "Now, lets create a simple function using this data and we will call \n",
    "`distributed_diagnostics()` to check the internal configuration of the function."
   ]
  },
  {
   "cell_type": "code",
   "execution_count": 3,
   "metadata": {},
   "outputs": [
    {
     "name": "stdout",
     "output_type": "stream",
     "text": [
      "[stdout:0] \n",
      "0.056852102279663086 s\n",
      "Year\n",
      "1990     815.490565\n",
      "1991     819.447871\n",
      "1992     837.750969\n",
      "1993     862.320965\n",
      "1994     860.493017\n",
      "1995     950.021784\n",
      "1996     965.890125\n",
      "1997     983.892431\n",
      "1998    1018.454424\n",
      "1999    1032.901512\n",
      "Name: Distance, dtype: float64\n",
      "[stdout:1] \n",
      "Year\n",
      "1990     815.490565\n",
      "1991     819.447871\n",
      "1992     837.750969\n",
      "1993     862.320965\n",
      "1994     860.493017\n",
      "1995     950.021784\n",
      "1996     965.890125\n",
      "1997     983.892431\n",
      "1998    1018.454424\n",
      "1999    1032.901512\n",
      "Name: Distance, dtype: float64\n",
      "[stdout:2] \n",
      "Year\n",
      "1990     815.490565\n",
      "1991     819.447871\n",
      "1992     837.750969\n",
      "1993     862.320965\n",
      "1994     860.493017\n",
      "1995     950.021784\n",
      "1996     965.890125\n",
      "1997     983.892431\n",
      "1998    1018.454424\n",
      "1999    1032.901512\n",
      "Name: Distance, dtype: float64\n",
      "[stdout:3] \n",
      "Year\n",
      "1990     815.490565\n",
      "1991     819.447871\n",
      "1992     837.750969\n",
      "1993     862.320965\n",
      "1994     860.493017\n",
      "1995     950.021784\n",
      "1996     965.890125\n",
      "1997     983.892431\n",
      "1998    1018.454424\n",
      "1999    1032.901512\n",
      "Name: Distance, dtype: float64\n"
     ]
    },
    {
     "name": "stderr",
     "output_type": "stream",
     "text": [
      "[stderr:0] \n",
      "/home/xmn/.conda/envs/bodoai-nb/lib/python3.8/site-packages/bodo/transforms/distributed_analysis.py:182: BodoWarning: No parallelism found for function 'avg_distance_by_year'. This could be due to unsupported usage. See distributed diagnostics for more information.\n",
      "  warnings.warn(BodoWarning(\n"
     ]
    }
   ],
   "source": [
    "%%px\n",
    "\n",
    "@bodo.jit\n",
    "def avg_distance_by_year(df):\n",
    "    t0 = time.time()\n",
    "    avg_distance = df.groupby('Year')['Distance'].mean()\n",
    "    t1 = time.time()\n",
    "    print(t1 - t0, 's')\n",
    "    return avg_distance\n",
    "\n",
    "result = avg_distance_by_year(df)\n",
    "print(result)"
   ]
  },
  {
   "cell_type": "code",
   "execution_count": 4,
   "metadata": {},
   "outputs": [
    {
     "name": "stdout",
     "output_type": "stream",
     "text": [
      "[stdout:0] \n",
      "Distributed diagnostics for function avg_distance_by_year, <ipython-input-47-cdec4a558198> (1)\n",
      "\n",
      "Data distributions:\n",
      "   df                        REP\n",
      "   $14call_method.6.12173    REP\n",
      "   $14call_method.6.12182    REP\n",
      "   Distance.12185            REP\n",
      "   Year.12184                REP\n",
      "   $cyumk.12242.12282        REP\n",
      "   $I.12196.12283            REP\n",
      "   $16call_method.7.12205    REP\n",
      "   $avg_distance.12284       REP\n",
      "   $52return_value.21        REP\n",
      "\n",
      "Parfor distributions:\n",
      "No parfors to distribute.\n",
      "\n",
      "Distributed listing for function avg_distance_by_year, <ipython-input-47-cdec4a558198> (1)\n",
      "------------------------------------------------------------| parfor_id/variable: distribution\n",
      "@bodo.jit                                                   | \n",
      "def avg_distance_by_year(df):                               | \n",
      "    t0 = time.time()----------------------------------------| df: REP\n",
      "    avg_distance = df.groupby('Year')['Distance'].mean()----| $14call_method.6.12173: REP, $14call_method.6.12182: REP, Distance.12185: REP, Year.12184: REP, $cyumk.12242.12282: REP, $I.12196.12283: REP, $16call_method.7.12205: REP, $avg_distance.12284: REP\n",
      "    t1 = time.time()                                        | \n",
      "    print(t1 - t0, 's')                                     | \n",
      "    return avg_distance-------------------------------------| $52return_value.21: REP\n",
      "\n",
      "Setting distribution of variable 'df' to REP: Distributed analysis replicated argument df (variable df). Set distributed flag for df if distributed partitions are passed (e.g. @bodo.jit(distributed=['df'])).\n",
      "\n"
     ]
    }
   ],
   "source": [
    "%%px\n",
    "\n",
    "avg_distance_by_year.distributed_diagnostics()"
   ]
  },
  {
   "cell_type": "markdown",
   "metadata": {},
   "source": [
    "As can be observed, the process were replicated to the all cores availables. \n",
    "When the function is called it raises a warning ( \n",
    "`BodoWarning: No parallelism found for function 'avg_distance_by_year`) and we could check this\n",
    "information using `distributed_diagnostics`, which all the variables are marked as replicated.\n",
    "\n",
    "We can try to use the *distributed* parameter to help to for the distribution for a variable.\n",
    "Lets try to apply it to the previous function to see if it improves the performance:"
   ]
  },
  {
   "cell_type": "code",
   "execution_count": 5,
   "metadata": {},
   "outputs": [
    {
     "name": "stdout",
     "output_type": "stream",
     "text": [
      "[stdout:0] \n",
      "0.05691814422607422 s\n",
      "Year\n",
      "1996    965.890125\n",
      "1997    983.892431\n",
      "Name: Distance, dtype: float64\n",
      "[stdout:1] \n",
      "Year\n",
      "1991    819.447871\n",
      "1992    837.750969\n",
      "Name: Distance, dtype: float64\n",
      "[stdout:2] \n",
      "Year\n",
      "1990     815.490565\n",
      "1994     860.493017\n",
      "1995     950.021784\n",
      "1998    1018.454424\n",
      "1999    1032.901512\n",
      "Name: Distance, dtype: float64\n",
      "[stdout:3] \n",
      "Year\n",
      "1993    862.320965\n",
      "Name: Distance, dtype: float64\n"
     ]
    }
   ],
   "source": [
    "%%px\n",
    "\n",
    "@bodo.jit(distributed=['df', 'avg_distance'])\n",
    "def avg_distance_by_year(df):\n",
    "    t0 = time.time()\n",
    "    avg_distance = df.groupby('Year')['Distance'].mean()\n",
    "    t1 = time.time()\n",
    "    print(t1 - t0, 's')\n",
    "    return avg_distance\n",
    "\n",
    "\n",
    "result = avg_distance_by_year(df)\n",
    "print(result)"
   ]
  },
  {
   "cell_type": "code",
   "execution_count": 6,
   "metadata": {},
   "outputs": [
    {
     "name": "stdout",
     "output_type": "stream",
     "text": [
      "[stdout:0] \n",
      "Distributed diagnostics for function avg_distance_by_year, <ipython-input-49-f1175f063965> (1)\n",
      "\n",
      "Data distributions:\n",
      "   df                          1D_Block_Var\n",
      "   $14call_method.6.12492      1D_Block_Var\n",
      "   $14call_method.6.12501      1D_Block_Var\n",
      "   Distance.12504              1D_Block_Var\n",
      "   Year.12503                  1D_Block_Var\n",
      "   $cyumk.12561.12603          1D_Block_Var\n",
      "   $I.12515.12604              1D_Block_Var\n",
      "   $16call_method.7.12524      1D_Block_Var\n",
      "   $avg_distance.12605         1D_Block_Var\n",
      "   $cgibeiklu.12480.12607      1D_Block_Var\n",
      "   distributed_return.12483    1D_Block_Var\n",
      "\n",
      "Parfor distributions:\n",
      "No parfors to distribute.\n",
      "\n",
      "Distributed listing for function avg_distance_by_year, <ipython-input-49-f1175f063965> (1)\n",
      "------------------------------------------------------------| parfor_id/variable: distribution\n",
      "@bodo.jit(distributed=['df', 'avg_distance'])               | \n",
      "def avg_distance_by_year(df):                               | \n",
      "    t0 = time.time()----------------------------------------| df: 1D_Block_Var\n",
      "    avg_distance = df.groupby('Year')['Distance'].mean()----| $14call_method.6.12492: 1D_Block_Var, $14call_method.6.12501: 1D_Block_Var, Distance.12504: 1D_Block_Var, Year.12503: 1D_Block_Var, $cyumk.12561.12603: 1D_Block_Var, $I.12515.12604: 1D_Block_Var, $16call_method.7.12524: 1D_Block_Var, $avg_distance.12605: 1D_Block_Var\n",
      "    t1 = time.time()                                        | \n",
      "    print(t1 - t0, 's')                                     | \n",
      "    return avg_distance-------------------------------------| distributed_return.12483: 1D_Block_Var\n",
      "\n",
      "\n"
     ]
    }
   ],
   "source": [
    "%%px\n",
    "\n",
    "avg_distance_by_year.distributed_diagnostics()"
   ]
  },
  {
   "cell_type": "markdown",
   "metadata": {},
   "source": [
    "In this example using **distributed** parameter, we can observe that the result were split across the \n",
    "processors and no variable was replicated, with no difference between both execution time (**~0.06 s**)."
   ]
  },
  {
   "cell_type": "markdown",
   "metadata": {},
   "source": [
    "## Some questions to consider\n",
    "\n",
    "- Why using **distributed** parameter didn't improve the execution time?\n",
    "- Would the **distributed** parameter usage have a better the performance for a largest dataset?"
   ]
  },
  {
   "cell_type": "markdown",
   "metadata": {},
   "source": [
    "## References\n",
    "\n",
    "For more information check the [bodo documentation page](https://docs.bodo.ai/latest/source/user_guide.html#distributed-diagnostics)"
   ]
  }
 ],
 "metadata": {
  "anaconda-cloud": {},
  "kernelspec": {
   "display_name": "Python 3",
   "language": "python",
   "name": "python3"
  },
  "language_info": {
   "codemirror_mode": {
    "name": "ipython",
    "version": 3
   },
   "file_extension": ".py",
   "mimetype": "text/x-python",
   "name": "python",
   "nbconvert_exporter": "python",
   "pygments_lexer": "ipython3",
   "version": "3.8.6"
  }
 },
 "nbformat": 4,
 "nbformat_minor": 4
}
