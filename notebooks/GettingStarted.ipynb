{
 "cells": [
  {
   "cell_type": "code",
   "execution_count": 1,
   "metadata": {},
   "outputs": [
    {
     "name": "stdout",
     "output_type": "stream",
     "text": [
      "[stdout:0] /home/xmn/dev/bodoai/bodo-benchmarks/notebooks\n",
      "[stdout:1] /home/xmn/dev/bodoai/bodo-benchmarks/notebooks\n",
      "[stdout:2] /home/xmn/dev/bodoai/bodo-benchmarks/notebooks\n",
      "[stdout:3] /home/xmn/dev/bodoai/bodo-benchmarks/notebooks\n"
     ]
    }
   ],
   "source": [
    "import ipyparallel as ipp\n",
    "\n",
    "c = ipp.Client(profile=\"mpi\")\n",
    "view = c[:]\n",
    "view.activate()\n",
    "view.block = True\n",
    "\n",
    "import os\n",
    "view[\"cwd\"] = os.getcwd()\n",
    "%px cd $cwd"
   ]
  },
  {
   "cell_type": "code",
   "execution_count": 2,
   "metadata": {},
   "outputs": [],
   "source": [
    "import bodo"
   ]
  },
  {
   "cell_type": "code",
   "execution_count": 3,
   "metadata": {},
   "outputs": [
    {
     "name": "stdout",
     "output_type": "stream",
     "text": [
      "[stdout:0] \n",
      "Execution time: 0.7505171298980713 \n",
      "result: 3.14153352\n"
     ]
    }
   ],
   "source": [
    "%%px\n",
    "import bodo\n",
    "import numpy as np\n",
    "import time\n",
    "\n",
    "\n",
    "@bodo.jit\n",
    "def calc_pi(n):\n",
    "    t1 = time.time()\n",
    "    x = 2 * np.random.ranf(n) - 1\n",
    "    y = 2 * np.random.ranf(n) - 1\n",
    "    pi = 4 * np.sum(x**2 + y**2 < 1) / n\n",
    "    print(\"Execution time:\", time.time()-t1, \"\\nresult:\", pi)\n",
    "\n",
    "calc_pi(2 * 10**8)"
   ]
  },
  {
   "cell_type": "code",
   "execution_count": null,
   "metadata": {},
   "outputs": [],
   "source": []
  }
 ],
 "metadata": {
  "kernelspec": {
   "display_name": "Python 3",
   "language": "python",
   "name": "python3"
  },
  "language_info": {
   "codemirror_mode": {
    "name": "ipython",
    "version": 3
   },
   "file_extension": ".py",
   "mimetype": "text/x-python",
   "name": "python",
   "nbconvert_exporter": "python",
   "pygments_lexer": "ipython3",
   "version": "3.8.6"
  }
 },
 "nbformat": 4,
 "nbformat_minor": 4
}
