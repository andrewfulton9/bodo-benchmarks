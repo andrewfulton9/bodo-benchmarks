{
 "cells": [
  {
   "cell_type": "markdown",
   "metadata": {},
   "source": [
    "# Getting start with Bodo"
   ]
  },
  {
   "cell_type": "markdown",
   "metadata": {},
   "source": [
    "**Bodo** is the key part of the **Bodo.ai** platform, a solution that provides a user-friendly interface for data team, through Jupyter Notebooks and Job instances easily integrated with AWS account. **Bodo** was built on top of very well known open source technologies such as **Numba**, **Pandas**, **Numpy**, **MPI** and **LLVM**.\n",
    "\n",
    "\n",
    "![https://bodo.ai/technology/](img/bodo-technologies.png)\n"
   ]
  },
  {
   "cell_type": "markdown",
   "metadata": {},
   "source": [
    "You can write **bodo** code as easy as you would write **numba** code, just using a `jit`(just-in-time) decorator, for example:\n"
   ]
  },
  {
   "cell_type": "code",
   "execution_count": 1,
   "metadata": {},
   "outputs": [],
   "source": [
    "import time\n",
    "\n",
    "import bodo\n",
    "import matplotlib.pyplot as plt\n",
    "import pandas as pd"
   ]
  },
  {
   "cell_type": "code",
   "execution_count": 2,
   "metadata": {},
   "outputs": [
    {
     "name": "stderr",
     "output_type": "stream",
     "text": [
      "/home/xmn/.conda/envs/bodoai-nb/lib/python3.8/site-packages/bodo/transforms/distributed_analysis.py:180: BodoWarning: No parallelism found for function 'calc_add'. This could be due to unsupported usage. See distributed diagnostics for more information.\n",
      "  warnings.warn(BodoWarning(\n"
     ]
    },
    {
     "data": {
      "text/plain": [
       "0    100\n",
       "1    101\n",
       "2    102\n",
       "3    103\n",
       "4    104\n",
       "5    105\n",
       "6    106\n",
       "7    107\n",
       "8    108\n",
       "9    109\n",
       "dtype: int64"
      ]
     },
     "execution_count": 2,
     "metadata": {},
     "output_type": "execute_result"
    }
   ],
   "source": [
    "# lazy compilation\n",
    "@bodo.jit\n",
    "def calc_add(series: pd.Series, scalar: int) -> pd.Series:\n",
    "    return series + scalar\n",
    "\n",
    "\n",
    "calc_add(pd.Series(range(10)), 100)"
   ]
  },
  {
   "cell_type": "markdown",
   "metadata": {},
   "source": [
    "As you can see, you can write thecode in the same way you would write it using **numba**. \n",
    "Also, you can also decide to use lazy or eager compilation \n",
    "(see [numba documentation](https://numba.pydata.org/numba-doc/latest/user/jit.html)).\n",
    "\n",
    "When using lazy compilation, you don't need to specify the allowed signatures for the \n",
    "function you want to compile using **bodo**. For example, when you decorated `calc_add` \n",
    "with `bodo.jit`, you didn't specify what data type is used by each parameter neither \n",
    "the data type returned. As you can observe, it just have the type annotation, but it is not\n",
    "enough to compile the function. Instead, with you want to compile the function for a specific\n",
    "type, you need to do it with the `jit` decorator as shown below:"
   ]
  },
  {
   "cell_type": "code",
   "execution_count": 3,
   "metadata": {},
   "outputs": [
    {
     "data": {
      "text/plain": [
       "110"
      ]
     },
     "execution_count": 3,
     "metadata": {},
     "output_type": "execute_result"
    }
   ],
   "source": [
    "# eager compilation\n",
    "@bodo.jit('int64(int64, int64)')\n",
    "def calc_sum(scalar1: int, scalar2: int):\n",
    "    return scalar1 + scalar2\n",
    "\n",
    "\n",
    "calc_sum(10, 100)"
   ]
  },
  {
   "cell_type": "markdown",
   "metadata": {},
   "source": [
    "In this case, you will compile the function before the function call, so when \n",
    "the function is called, it didn't need to spent time compiling the function.\n",
    "Let's check the execution time difference between lazy, eager and pure `pandas`/`numpy` approach."
   ]
  },
  {
   "cell_type": "code",
   "execution_count": 4,
   "metadata": {},
   "outputs": [
    {
     "data": {
      "text/plain": [
       "0      0\n",
       "1      1\n",
       "2      2\n",
       "3      3\n",
       "4      4\n",
       "      ..\n",
       "95    95\n",
       "96    96\n",
       "97    97\n",
       "98    98\n",
       "99    99\n",
       "Name: age, Length: 100, dtype: int64"
      ]
     },
     "execution_count": 4,
     "metadata": {},
     "output_type": "execute_result"
    }
   ],
   "source": [
    "data = pd.Series(range(100))\n",
    "data.name = 'age'\n",
    "data"
   ]
  },
  {
   "cell_type": "code",
   "execution_count": 5,
   "metadata": {},
   "outputs": [
    {
     "name": "stdout",
     "output_type": "stream",
     "text": [
      "Execution time: 0.0022001266479492188 s\n"
     ]
    }
   ],
   "source": [
    "# pure pandas/numpy approach\n",
    "def calc_add(series: pd.Series, scalar: int) -> pd.Series:\n",
    "    return series + scalar\n",
    "\n",
    "\n",
    "t = time.time()\n",
    "calc_add(data, 100)\n",
    "print('Execution time:', time.time() - t, 's')"
   ]
  },
  {
   "cell_type": "markdown",
   "metadata": {},
   "source": [
    "As you can see, using pure **pandas/numpy** this operation takes ~0.002s to finish.\n",
    "Now, lets take a look how to \"jitify\" this using **bodo** for **lazy compilation**."
   ]
  },
  {
   "cell_type": "code",
   "execution_count": 6,
   "metadata": {},
   "outputs": [
    {
     "name": "stdout",
     "output_type": "stream",
     "text": [
      "Execution time: 0.3691263198852539 s\n"
     ]
    },
    {
     "name": "stderr",
     "output_type": "stream",
     "text": [
      "/home/xmn/.conda/envs/bodoai-nb/lib/python3.8/site-packages/bodo/transforms/distributed_analysis.py:180: BodoWarning: No parallelism found for function 'calc_add'. This could be due to unsupported usage. See distributed diagnostics for more information.\n",
      "  warnings.warn(BodoWarning(\n"
     ]
    }
   ],
   "source": [
    "lazy_calc_add = bodo.jit(calc_add)\n",
    "\n",
    "t = time.time()\n",
    "lazy_calc_add(data, 100)\n",
    "print('Execution time:', time.time() - t, 's')"
   ]
  },
  {
   "cell_type": "markdown",
   "metadata": {},
   "source": [
    "The lazy compilation took more than 100 times than the pure \n",
    "**pandas/numpy** approach. That happens because there is an overhead for the \n",
    "compilation. Now, that the function is already \"jitified\", lets take a look\n",
    "if has any peformance improvement.\n"
   ]
  },
  {
   "cell_type": "code",
   "execution_count": 8,
   "metadata": {},
   "outputs": [
    {
     "name": "stdout",
     "output_type": "stream",
     "text": [
      "Execution time: 0.0005719661712646484 s\n"
     ]
    }
   ],
   "source": [
    "t = time.time()\n",
    "lazy_calc_add(data, 100)\n",
    "print('Execution time:', time.time() - t, 's')"
   ]
  },
  {
   "cell_type": "markdown",
   "metadata": {},
   "source": [
    "The `lazy_calc_add` now performes much faster than the first time, \n",
    "also much faster than the pure **pandas/numpy** version.\n",
    "That is a amazing improvement! Maybe if you run it again, maybe the time execution would be \n",
    "different. So, in the next section, we will get the average of 1000 executions to have a better \n",
    "idea about the performance. Also, it is good to have in mind that the tests are using a very small\n",
    "dataset. We will add more tests using a larger dataset too to check the difference."
   ]
  },
  {
   "cell_type": "code",
   "execution_count": 10,
   "metadata": {},
   "outputs": [
    {
     "name": "stderr",
     "output_type": "stream",
     "text": [
      "/home/xmn/.conda/envs/bodoai-nb/lib/python3.8/site-packages/bodo/transforms/distributed_analysis.py:180: BodoWarning: No parallelism found for function 'calc_add'. This could be due to unsupported usage. See distributed diagnostics for more information.\n",
      "  warnings.warn(BodoWarning(\n"
     ]
    },
    {
     "name": "stdout",
     "output_type": "stream",
     "text": [
      "Execution time: 0.0004069805145263672 s\n"
     ]
    },
    {
     "name": "stderr",
     "output_type": "stream",
     "text": [
      "/home/xmn/.conda/envs/bodoai-nb/lib/python3.8/site-packages/bodo/transforms/distributed_analysis.py:180: BodoWarning: No parallelism found for function 'calc_add'. This could be due to unsupported usage. See distributed diagnostics for more information.\n",
      "  warnings.warn(BodoWarning(\n"
     ]
    }
   ],
   "source": [
    "SE_INDEX_RANGE_TYPE = bodo.SeriesType(\n",
    "    dtype=bodo.int64, \n",
    "    index=bodo.RangeIndexType(bodo.none),\n",
    "    name_typ=bodo.string_type\n",
    ")\n",
    "\n",
    "SE_INDEX_NUMERIC_TYPE = bodo.SeriesType(\n",
    "    dtype=bodo.int64, \n",
    "    index=bodo.NumericIndexType(bodo.int64),\n",
    "    name_typ=bodo.string_type\n",
    ")\n",
    "\n",
    "SE_TYPES = [\n",
    "    SE_INDEX_RANGE_TYPE(SE_INDEX_RANGE_TYPE, bodo.int64),\n",
    "    SE_INDEX_NUMERIC_TYPE(SE_INDEX_NUMERIC_TYPE, bodo.int64)\n",
    "]\n",
    "\n",
    "eager_calc_add = bodo.jit(SE_TYPES)(calc_add)\n",
    "\n",
    "t = time.time()\n",
    "eager_calc_add(data, 100)\n",
    "print('Execution time:', time.time() - t, 's')"
   ]
  },
  {
   "cell_type": "markdown",
   "metadata": {},
   "source": [
    "In its first execution, the execution time of the **eager compiled** function\n",
    "was near the second execution of the **lazy compiled** function."
   ]
  },
  {
   "cell_type": "markdown",
   "metadata": {},
   "source": [
    "## Benchmark"
   ]
  },
  {
   "cell_type": "markdown",
   "metadata": {},
   "source": [
    "Now, lets measure the time for 1000 executions and take the average for each approach for both a small and large dataset.\n",
    "\n",
    "So, first, we will need to download some data. For this benchmark, we will use the 2015 NYC Taxi Trip dataset,\n",
    "available at `https://s3.amazonaws.com/nyc-tlc/trip+data`. For our propose, we will just download the first\n",
    "3 months. To download the data, uncomment the following cell, set `DATA_DIR` to your data folder and run it."
   ]
  },
  {
   "cell_type": "code",
   "execution_count": 11,
   "metadata": {},
   "outputs": [],
   "source": [
    "\"\"\"\n",
    "%%bash\n",
    "\n",
    "URL_ROOT=https://s3.amazonaws.com/nyc-tlc/trip+data\n",
    "DATA_DIR=/work/bodoai/dataset/nyc-trip-2015\n",
    "\n",
    "mkdir -p ${DATA_DIR} \n",
    "\n",
    "for i in {1..3}; do\n",
    "    month=`printf \"%2.0d\\n\" $i |sed \"s/ /0/\"`;\n",
    "    FILENAME=yellow_tripdata_2015-${month}.csv;\n",
    "    wget -c ${URL_ROOT}/${FILENAME} -O ${DATA_DIR}/${FILENAME};\n",
    "done\n",
    "\"\"\";"
   ]
  },
  {
   "cell_type": "markdown",
   "metadata": {},
   "source": [
    "Second step, join the three `CSV` trip files to a single `Parquet` file \n",
    "(skip the following cell if you already have the `parquet` data):"
   ]
  },
  {
   "cell_type": "code",
   "execution_count": 12,
   "metadata": {},
   "outputs": [],
   "source": [
    "dfs = []\n",
    "data_dir = './data/nyc-trip-2015'\n",
    "\n",
    "for i in range(1, 4):\n",
    "    df = pd.read_csv(\n",
    "        f'{data_dir}/yellow_tripdata_2015-{str(i).rjust(2, \"0\")}.csv',\n",
    "        parse_dates=['tpep_pickup_datetime', 'tpep_dropoff_datetime'],\n",
    "    )\n",
    "    dfs.append(df)\n",
    "    del df\n",
    "\n",
    "df = pd.concat(dfs)\n",
    "df.to_parquet('./data/nyc-trip-2015/q1.pq')\n",
    "del df"
   ]
  },
  {
   "cell_type": "code",
   "execution_count": 13,
   "metadata": {},
   "outputs": [],
   "source": [
    "large_dataset = pd.read_parquet('./data/nyc-trip-2015/q1.pq').passenger_count"
   ]
  },
  {
   "cell_type": "code",
   "execution_count": 14,
   "metadata": {},
   "outputs": [
    {
     "name": "stderr",
     "output_type": "stream",
     "text": [
      "/home/xmn/.conda/envs/bodoai-nb/lib/python3.8/site-packages/bodo/transforms/distributed_analysis.py:180: BodoWarning: No parallelism found for function 'calc_add'. This could be due to unsupported usage. See distributed diagnostics for more information.\n",
      "  warnings.warn(BodoWarning(\n",
      "/home/xmn/.conda/envs/bodoai-nb/lib/python3.8/site-packages/bodo/transforms/distributed_analysis.py:180: BodoWarning: No parallelism found for function 'calc_add'. This could be due to unsupported usage. See distributed diagnostics for more information.\n",
      "  warnings.warn(BodoWarning(\n"
     ]
    }
   ],
   "source": [
    "dataset = {'small': data, 'large': large_dataset}\n",
    "methods = {\n",
    "    'pure_pandas_numpy': calc_add, \n",
    "    'lazy_compilation': bodo.jit(calc_add),\n",
    "    'eager_compilation': bodo.jit(SE_TYPES)(calc_add)\n",
    "}\n",
    "execution_time = {'small': {}, 'large': {}}"
   ]
  },
  {
   "cell_type": "code",
   "execution_count": 16,
   "metadata": {},
   "outputs": [
    {
     "name": "stderr",
     "output_type": "stream",
     "text": [
      "/home/xmn/.conda/envs/bodoai-nb/lib/python3.8/site-packages/bodo/transforms/distributed_analysis.py:180: BodoWarning: No parallelism found for function 'calc_add'. This could be due to unsupported usage. See distributed diagnostics for more information.\n",
      "  warnings.warn(BodoWarning(\n",
      "/home/xmn/.conda/envs/bodoai-nb/lib/python3.8/site-packages/bodo/transforms/distributed_analysis.py:180: BodoWarning: No parallelism found for function 'calc_add'. This could be due to unsupported usage. See distributed diagnostics for more information.\n",
      "  warnings.warn(BodoWarning(\n"
     ]
    },
    {
     "data": {
      "text/plain": [
       "{'small': {'pure_pandas_numpy': 8.463740348815918e-05,\n",
       "  'lazy_compilation': 0.00033594441413879397,\n",
       "  'eager_compilation': 0.00011157751083374024},\n",
       " 'large': {'pure_pandas_numpy': 0.0470913679599762,\n",
       "  'lazy_compilation': 0.07897129654884338,\n",
       "  'eager_compilation': 0.0794542350769043}}"
      ]
     },
     "execution_count": 16,
     "metadata": {},
     "output_type": "execute_result"
    }
   ],
   "source": [
    "N = 1000\n",
    "\n",
    "for d_name, d in dataset.items():\n",
    "    # force the recreation of lazy_compilation\n",
    "    methods['lazy_compilation'] = bodo.jit(calc_add)\n",
    "    for m_name, m in methods.items():\n",
    "        t = 0\n",
    "        for _ in range(n):\n",
    "            t1 = time.time()\n",
    "            m(d, N)\n",
    "            t += time.time() - t1\n",
    "        \n",
    "        execution_time[d_name][m_name] = t/N\n",
    "execution_time"
   ]
  },
  {
   "cell_type": "code",
   "execution_count": 17,
   "metadata": {},
   "outputs": [
    {
     "data": {
      "image/png": "[encoded data removed]",
      "text/plain": [
       "<Figure size 432x288 with 1 Axes>"
      ]
     },
     "metadata": {
      "needs_background": "light"
     },
     "output_type": "display_data"
    },
    {
     "data": {
      "image/png": "[encoded data removed]",
      "text/plain": [
       "<Figure size 432x288 with 1 Axes>"
      ]
     },
     "metadata": {
      "needs_background": "light"
     },
     "output_type": "display_data"
    }
   ],
   "source": [
    "for size_name, size_collection in execution_time.items():\n",
    "    fig = plt.figure()\n",
    "    \n",
    "    for method_name, method_time in size_collection.items():\n",
    "        plt.bar(size_collection.keys(), size_collection.values())\n",
    "        \n",
    "    \n",
    "    plt.suptitle(size_name)\n",
    "    fig.tight_layout()\n",
    "    fig.show()"
   ]
  },
  {
   "cell_type": "markdown",
   "metadata": {},
   "source": [
    "As we can observe, for small dataset the compilation overhead for **lazy compilation** increase a lot the \n",
    "execution time, but for large dataset it doesn't have a considered impact. \n",
    "\n",
    "Another thing we can observe is that pure **numpy/pandas** has a better performance compared to\n",
    "both **eager compilation** and **lazy compilation**. That is because there are some overhead internal calls \n",
    "before the actual code are executed, if we were measuring the time inside the function we will notice a \n",
    "very different result."
   ]
  },
  {
   "cell_type": "code",
   "execution_count": 18,
   "metadata": {},
   "outputs": [
    {
     "name": "stdout",
     "output_type": "stream",
     "text": [
      "========================================\n",
      "PURE PANDAS/NUMPY\n",
      "Execution time: 0.0005979537963867188 s\n",
      "========================================\n",
      "USING BODO WITH EAGER COMPILATION\n"
     ]
    },
    {
     "name": "stderr",
     "output_type": "stream",
     "text": [
      "/home/xmn/.conda/envs/bodoai-nb/lib/python3.8/site-packages/bodo/transforms/distributed_analysis.py:180: BodoWarning: No parallelism found for function 'calc_add'. This could be due to unsupported usage. See distributed diagnostics for more information.\n",
      "  warnings.warn(BodoWarning(\n"
     ]
    },
    {
     "name": "stdout",
     "output_type": "stream",
     "text": [
      "Execution time: 0.00023746490478515625 s\n"
     ]
    },
    {
     "name": "stderr",
     "output_type": "stream",
     "text": [
      "/home/xmn/.conda/envs/bodoai-nb/lib/python3.8/site-packages/bodo/transforms/distributed_analysis.py:180: BodoWarning: No parallelism found for function 'calc_add'. This could be due to unsupported usage. See distributed diagnostics for more information.\n",
      "  warnings.warn(BodoWarning(\n"
     ]
    }
   ],
   "source": [
    "# pure pandas/numpy approach\n",
    "def calc_add(series: pd.Series, scalar: int) -> pd.Series:\n",
    "    t = time.time()\n",
    "    result = series + scalar\n",
    "    print('Execution time:', time.time() - t, 's')\n",
    "    return result\n",
    "\n",
    "\n",
    "\n",
    "print('=' * 40)\n",
    "print('PURE PANDAS/NUMPY')\n",
    "calc_add(data, 100)\n",
    "\n",
    "\n",
    "print('=' * 40)\n",
    "print('USING BODO WITH EAGER COMPILATION')\n",
    "eager_calc_add = bodo.jit(SE_TYPES)(calc_add)\n",
    "calc_add(data, 100);\n"
   ]
  },
  {
   "cell_type": "markdown",
   "metadata": {},
   "source": [
    "As you can see, the **bodo** function was faster than the pure **pandas/numpy** one. \n",
    "Lets take a look if it happens also with a larger dataset:"
   ]
  },
  {
   "cell_type": "code",
   "execution_count": 19,
   "metadata": {},
   "outputs": [
    {
     "data": {
      "text/plain": [
       "(38551116,)"
      ]
     },
     "execution_count": 19,
     "metadata": {},
     "output_type": "execute_result"
    }
   ],
   "source": [
    "large_dataset.shape"
   ]
  },
  {
   "cell_type": "code",
   "execution_count": 20,
   "metadata": {},
   "outputs": [
    {
     "name": "stdout",
     "output_type": "stream",
     "text": [
      "========================================\n",
      "PURE PANDAS/NUMPY\n",
      "Execution time: 0.07764172554016113 s\n",
      "========================================\n",
      "USING BODO WITH EAGER COMPILATION\n"
     ]
    },
    {
     "name": "stderr",
     "output_type": "stream",
     "text": [
      "/home/xmn/.conda/envs/bodoai-nb/lib/python3.8/site-packages/bodo/transforms/distributed_analysis.py:180: BodoWarning: No parallelism found for function 'calc_add'. This could be due to unsupported usage. See distributed diagnostics for more information.\n",
      "  warnings.warn(BodoWarning(\n"
     ]
    },
    {
     "name": "stdout",
     "output_type": "stream",
     "text": [
      "Execution time: 0.046428680419921875 s\n"
     ]
    },
    {
     "name": "stderr",
     "output_type": "stream",
     "text": [
      "/home/xmn/.conda/envs/bodoai-nb/lib/python3.8/site-packages/bodo/transforms/distributed_analysis.py:180: BodoWarning: No parallelism found for function 'calc_add'. This could be due to unsupported usage. See distributed diagnostics for more information.\n",
      "  warnings.warn(BodoWarning(\n"
     ]
    }
   ],
   "source": [
    "print('=' * 40)\n",
    "print('PURE PANDAS/NUMPY')\n",
    "calc_add(large_dataset, 100)\n",
    "\n",
    "\n",
    "print('=' * 40)\n",
    "print('USING BODO WITH EAGER COMPILATION')\n",
    "eager_calc_add = bodo.jit(SE_TYPES)(calc_add)\n",
    "calc_add(large_dataset, 100);\n"
   ]
  },
  {
   "cell_type": "markdown",
   "metadata": {},
   "source": [
    "## Conclusions\n",
    "\n",
    "Until now, we learned how to create **bodo** functions in **lazy** and **eager** mode. \n",
    "Also we measured in different ways the **bodo** functions and the pure **numpy/pandas** functions and\n",
    "we observed the difference between them.\n",
    "\n",
    "As a follow-up work, we will check how to improve our workflow running the code in parallel!"
   ]
  }
 ],
 "metadata": {
  "kernelspec": {
   "display_name": "Python 3",
   "language": "python",
   "name": "python3"
  },
  "language_info": {
   "codemirror_mode": {
    "name": "ipython",
    "version": 3
   },
   "file_extension": ".py",
   "mimetype": "text/x-python",
   "name": "python",
   "nbconvert_exporter": "python",
   "pygments_lexer": "ipython3",
   "version": "3.8.6"
  }
 },
 "nbformat": 4,
 "nbformat_minor": 4
}
