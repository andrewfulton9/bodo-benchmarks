{
 "cells": [
  {
   "cell_type": "markdown",
   "metadata": {},
   "source": [
    "<img src=\"img/logo.svg\" align=\"right\" style=\"background:black;height:50px; padding-left:5px;padding-right:5px;padding-bottom:0px;\">"
   ]
  },
  {
   "cell_type": "markdown",
   "metadata": {},
   "source": [
    "# Introduction\n",
    "\n",
    "Welcome to the Bodo Tutorial.\n",
    "\n",
    "Bodo is an elastic Python Cloud Engine for automate parallelization and optimization of analytics workloads across clusters."
   ]
  },
  {
   "cell_type": "markdown",
   "metadata": {},
   "source": [
    "## Overview"
   ]
  },
  {
   "cell_type": "markdown",
   "metadata": {},
   "source": [
    "Bodo democratizes High Performance Computing (HPC) architecture into mainstream enterprises allowing analytics programs to scale using Python.\n",
    "\n",
    "### Simplicity and Flexibility of Python\n",
    "\n",
    "- Native Python from prototype to production\n",
    "- No rewrites or re-engineering of the Pandas code\n",
    "- No new API, libraries or glue codes\n",
    "- Simple, intuitive and adaptable platform\n",
    "\n",
    "### Performance and Scalability of HPC\n",
    "\n",
    "- Automatic parallelism with HPC performance\n",
    "- Same code scales to production with no limits\n",
    "- End to end optimization (with edge performance)\n",
    "- Efficient and lower infrastructure cost\n"
   ]
  },
  {
   "cell_type": "markdown",
   "metadata": {},
   "source": [
    "## Prepare"
   ]
  },
  {
   "cell_type": "markdown",
   "metadata": {},
   "source": [
    "First, you should clone this repository: \n",
    "\n",
    "    git clone https://github.com/Quansight/bodo-benchmarks\n",
    "\n",
    "\n",
    "All the useful commands are available using the `make` command (targets)\n",
    "\n",
    "```{note}\n",
    "Type `make help` to see all the targets available.\n",
    "```\n",
    "\n",
    "Follow the steps below before run the notebooks. \n",
    "\n",
    "```{note}\n",
    "You should have the \n",
    "credentials to download the `bodo` library as well as the `bodo` license file.\n",
    "```\n",
    "\n",
    "```{note}\n",
    "We are assuming you already have some familiarity with `conda` and have it \n",
    "already installed.\n",
    "```\n",
    "\n",
    "* Create an initial **.env** file: `make create-ci-dotenv-file`.\n",
    "    Ensure to fill this file properly.\n",
    "* Create the **bodo** license file: `make create-bodo-license-file`. \n",
    "    Requires **BODO_LICENSE_CONTENT** environment variable.\n",
    "* Create the file for the **conda** environment: `make create-conda-env-file`. \n",
    "    Requires **BODO_CONDA_USERNAME** and **BODO_CONDA_TOKEN**.\n",
    "* Create the **conda** environment, called **bodoai-nb**, for the project: `make create-conda-env`.\n",
    "* Activate the **conda** environment: `conda activate bodoai-nb`.\n",
    "* And finally, run the **JupyterLab**: `make launch-jupyterlab`"
   ]
  },
  {
   "cell_type": "markdown",
   "metadata": {},
   "source": [
    "## Links"
   ]
  },
  {
   "cell_type": "markdown",
   "metadata": {},
   "source": [
    "*  Reference\n",
    "    *  [Docs](https://docs.bodo.ai/latest/index.html)\n",
    "    *  [Examples](https://github.com/Bodo-inc/Bodo-examples)\n",
    "    *  [Blog](https://dev-blog.bodo.ai/)\n",
    "*  Ask for help\n",
    "    *   [`quansight`](https://github.com/Quansight/bodo-benchmarks/issues)"
   ]
  },
  {
   "cell_type": "markdown",
   "metadata": {},
   "source": [
    "## About the tutorials\n",
    "\n",
    "All the tutorials are organized using **Jupyter notebooks**. So, if you are not familiar with \n",
    "**JupyterLab**, take some time to check the \n",
    "[JupyterLab documentation](https://jupyterlab.readthedocs.io/) first.\n"
   ]
  },
  {
   "cell_type": "markdown",
   "metadata": {},
   "source": [
    "## References\n",
    "\n",
    "Some of the notebooks here were inpired by the [Dask tutorial](https://github.com/dask/dask-tutorial/)."
   ]
  }
 ],
 "metadata": {
  "anaconda-cloud": {},
  "kernelspec": {
   "display_name": "Python 3",
   "language": "python",
   "name": "python3"
  },
  "language_info": {
   "codemirror_mode": {
    "name": "ipython",
    "version": 3
   },
   "file_extension": ".py",
   "mimetype": "text/x-python",
   "name": "python",
   "nbconvert_exporter": "python",
   "pygments_lexer": "ipython3",
   "version": "3.8.6"
  }
 },
 "nbformat": 4,
 "nbformat_minor": 4
}
