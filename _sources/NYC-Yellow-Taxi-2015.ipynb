{
 "cells": [
  {
   "cell_type": "markdown",
   "metadata": {},
   "source": [
    "# Using bodo to read and analyse NYC taxi data from 2015"
   ]
  },
  {
   "cell_type": "markdown",
   "metadata": {},
   "source": [
    "This notebook aims to guide you throught the first steps using **bodo**. Also, it has some comparison an notes about the using **bodo** and pure python (+ numpy + pandas).\n",
    "\n",
    "This example is based on [Matthew Rocklin blog post about dask]( https://matthewrocklin.com/blog/work/2017/01/12/dask-dataframes), so we highly recommend first you take a time to read that blog post. Here, we will focus on showing how to do the cited blog post code using **bodo** and show some information about the spent time for a pure pandas code and **bodo** code. We will add some comments about the changes we needed to do to have the code running using **bodo**."
   ]
  },
  {
   "cell_type": "markdown",
   "metadata": {},
   "source": [
    "## Setup\n",
    "\n",
    "First, you probably will need to download the NYC Yellow taxi data from 2015.\n",
    "Uncomment the following code and change the **DATA_DIR** to your local directory, so you can run the cell."
   ]
  },
  {
   "cell_type": "code",
   "execution_count": 1,
   "metadata": {},
   "outputs": [],
   "source": [
    "\"\"\"\n",
    "%%bash\n",
    "\n",
    "URL_ROOT=https://s3.amazonaws.com/nyc-tlc/trip+data\n",
    "DATA_DIR=/work/bodoai/dataset/nyc-trip-2015\n",
    "\n",
    "for i in {1..12}; do\n",
    "    month=`printf \"%2.0d\\n\" $i |sed \"s/ /0/\"`;\n",
    "    FILENAME=yellow_tripdata_2015-${month}.csv;\n",
    "    # wget -c ${URL_ROOT}/${FILENAME} -O ${DATA_DIR}/${FILENAME};\n",
    "done\n",
    "\"\"\";"
   ]
  },
  {
   "cell_type": "markdown",
   "metadata": {},
   "source": [
    "As **bodo** **read_csv** works easily with constant paths than variable paths, you can link this folder inside our current path (optional, uncomment the code below if you want to run it)."
   ]
  },
  {
   "cell_type": "code",
   "execution_count": 2,
   "metadata": {},
   "outputs": [],
   "source": [
    "\"\"\"\n",
    "%%bash\n",
    "\n",
    "mkdir -p ./data\n",
    "ln -s /work/bodoai/dataset/nyc-trip-2015 ./data\n",
    "\"\"\";"
   ]
  },
  {
   "cell_type": "code",
   "execution_count": 3,
   "metadata": {},
   "outputs": [
    {
     "name": "stdout",
     "output_type": "stream",
     "text": [
      "q1.pq\t\t\t     yellow_tripdata_2015-02.csv\n",
      "yellow_tripdata_2015-01.csv  yellow_tripdata_2015-03.csv\n"
     ]
    }
   ],
   "source": [
    "!ls ./data/nyc-trip-2015"
   ]
  },
  {
   "cell_type": "markdown",
   "metadata": {},
   "source": [
    "As it is easier to work with `parquet` file than `csv` files, we will convert the `csv` files to a single `parquet` file (for now lets just use the first 3 files)."
   ]
  },
  {
   "cell_type": "code",
   "execution_count": 4,
   "metadata": {},
   "outputs": [],
   "source": [
    "import pandas as pd"
   ]
  },
  {
   "cell_type": "code",
   "execution_count": 5,
   "metadata": {},
   "outputs": [],
   "source": [
    "dfs = []\n",
    "data_dir = './data/nyc-trip-2015'\n",
    "\n",
    "for i in range(1, 4):\n",
    "    df = pd.read_csv(\n",
    "        f'{data_dir}/yellow_tripdata_2015-{str(i).rjust(2, \"0\")}.csv',\n",
    "        parse_dates=['tpep_pickup_datetime', 'tpep_dropoff_datetime'],\n",
    "    )\n",
    "    dfs.append(df)\n",
    "    del df\n",
    "\n",
    "df = pd.concat(dfs)\n",
    "df.to_parquet('./data/nyc-trip-2015/q1.pq')\n",
    "del df"
   ]
  },
  {
   "cell_type": "code",
   "execution_count": 6,
   "metadata": {},
   "outputs": [
    {
     "name": "stdout",
     "output_type": "stream",
     "text": [
      "q1.pq\t\t\t     yellow_tripdata_2015-02.csv\n",
      "yellow_tripdata_2015-01.csv  yellow_tripdata_2015-03.csv\n"
     ]
    }
   ],
   "source": [
    "!ls ./data/nyc-trip-2015"
   ]
  },
  {
   "cell_type": "markdown",
   "metadata": {},
   "source": [
    "Now it is almost ready to start, lets just import `bodo` (and `time` for profiling). Also, import matplotlib for plotting charts!"
   ]
  },
  {
   "cell_type": "code",
   "execution_count": 7,
   "metadata": {},
   "outputs": [],
   "source": [
    "import time\n",
    "import bodo\n",
    "import matplotlib.pyplot as plt"
   ]
  },
  {
   "cell_type": "markdown",
   "metadata": {},
   "source": [
    "### Bodo px magic command"
   ]
  },
  {
   "cell_type": "markdown",
   "metadata": {},
   "source": [
    "You can also use `%px` magic command to run your cell using \n",
    "[MPI](https://ipyparallel.readthedocs.io/en/latest/magics.html).\n",
    "\n",
    "**NOTE:** check [bodo documentation](https://docs.bodo.ai/latest/source/user_guide.html)\n",
    "for more information."
   ]
  },
  {
   "cell_type": "code",
   "execution_count": 8,
   "metadata": {},
   "outputs": [
    {
     "name": "stdout",
     "output_type": "stream",
     "text": [
      "[stdout:0] /home/xmn/dev/bodoai/bodo-benchmarks/notebooks\n",
      "[stdout:1] /home/xmn/dev/bodoai/bodo-benchmarks/notebooks\n",
      "[stdout:2] /home/xmn/dev/bodoai/bodo-benchmarks/notebooks\n",
      "[stdout:3] /home/xmn/dev/bodoai/bodo-benchmarks/notebooks\n"
     ]
    }
   ],
   "source": [
    "import ipyparallel as ipp\n",
    "c = ipp.Client(profile=\"mpi\")\n",
    "view = c[:]\n",
    "view.activate()\n",
    "view.block = True\n",
    "import os\n",
    "view[\"cwd\"] = os.getcwd()\n",
    "%px cd $cwd"
   ]
  },
  {
   "cell_type": "markdown",
   "metadata": {},
   "source": [
    "# Load data from CSV files\n",
    "\n",
    "For an experimental purpose, it is using just the first 3 months of 2015, \n",
    "it is about 6GB in disk and 30 GB in RAM (for loading the data, not the dataframe in memory)."
   ]
  },
  {
   "cell_type": "code",
   "execution_count": 9,
   "metadata": {},
   "outputs": [
    {
     "name": "stdout",
     "output_type": "stream",
     "text": [
      "read_data execution time: 3.507601499557495 s\n"
     ]
    }
   ],
   "source": [
    "def read_data():\n",
    "    t0 = time.time()\n",
    "    df = pd.read_parquet('./data/nyc-trip-2015/q1.pq')\n",
    "    t1 = time.time()\n",
    "    print('read_data execution time:', t1 - t0, 's')\n",
    "    return df\n",
    "\n",
    "df = read_data()"
   ]
  },
  {
   "cell_type": "markdown",
   "metadata": {},
   "source": [
    "Lets check some information about the dataframe:"
   ]
  },
  {
   "cell_type": "code",
   "execution_count": 10,
   "metadata": {},
   "outputs": [
    {
     "name": "stdout",
     "output_type": "stream",
     "text": [
      "<class 'pandas.core.frame.DataFrame'>\n",
      "Int64Index: 38551116 entries, 0 to 13351608\n",
      "Data columns (total 19 columns):\n",
      " #   Column                 Dtype         \n",
      "---  ------                 -----         \n",
      " 0   VendorID               int64         \n",
      " 1   tpep_pickup_datetime   datetime64[ns]\n",
      " 2   tpep_dropoff_datetime  datetime64[ns]\n",
      " 3   passenger_count        int64         \n",
      " 4   trip_distance          float64       \n",
      " 5   pickup_longitude       float64       \n",
      " 6   pickup_latitude        float64       \n",
      " 7   RateCodeID             int64         \n",
      " 8   store_and_fwd_flag     object        \n",
      " 9   dropoff_longitude      float64       \n",
      " 10  dropoff_latitude       float64       \n",
      " 11  payment_type           int64         \n",
      " 12  fare_amount            float64       \n",
      " 13  extra                  float64       \n",
      " 14  mta_tax                float64       \n",
      " 15  tip_amount             float64       \n",
      " 16  tolls_amount           float64       \n",
      " 17  improvement_surcharge  float64       \n",
      " 18  total_amount           float64       \n",
      "dtypes: datetime64[ns](2), float64(12), int64(4), object(1)\n",
      "memory usage: 5.7+ GB\n"
     ]
    }
   ],
   "source": [
    "df.info()"
   ]
  },
  {
   "cell_type": "markdown",
   "metadata": {},
   "source": [
    "Now, using bodo:"
   ]
  },
  {
   "cell_type": "code",
   "execution_count": 11,
   "metadata": {},
   "outputs": [
    {
     "name": "stderr",
     "output_type": "stream",
     "text": [
      "/home/xmn/.conda/envs/bodoai-nb/lib/python3.8/site-packages/bodo/transforms/distributed_analysis.py:180: BodoWarning: No parallelism found for function 'read_data'. This could be due to unsupported usage. See distributed diagnostics for more information.\n",
      "  warnings.warn(BodoWarning(\n"
     ]
    },
    {
     "name": "stdout",
     "output_type": "stream",
     "text": [
      "read_data execution time: 9.118767976760864 s\n"
     ]
    }
   ],
   "source": [
    "read_data = bodo.jit(read_data)\n",
    "\n",
    "df = read_data()"
   ]
  },
  {
   "cell_type": "code",
   "execution_count": 12,
   "metadata": {},
   "outputs": [
    {
     "name": "stdout",
     "output_type": "stream",
     "text": [
      "<class 'pandas.core.frame.DataFrame'>\n",
      "Int64Index: 38551116 entries, 0 to 13351608\n",
      "Data columns (total 19 columns):\n",
      " #   Column                 Dtype         \n",
      "---  ------                 -----         \n",
      " 0   VendorID               int64         \n",
      " 1   tpep_pickup_datetime   datetime64[ns]\n",
      " 2   tpep_dropoff_datetime  datetime64[ns]\n",
      " 3   passenger_count        int64         \n",
      " 4   trip_distance          float64       \n",
      " 5   pickup_longitude       float64       \n",
      " 6   pickup_latitude        float64       \n",
      " 7   RateCodeID             int64         \n",
      " 8   store_and_fwd_flag     object        \n",
      " 9   dropoff_longitude      float64       \n",
      " 10  dropoff_latitude       float64       \n",
      " 11  payment_type           int64         \n",
      " 12  fare_amount            float64       \n",
      " 13  extra                  float64       \n",
      " 14  mta_tax                float64       \n",
      " 15  tip_amount             float64       \n",
      " 16  tolls_amount           float64       \n",
      " 17  improvement_surcharge  float64       \n",
      " 18  total_amount           float64       \n",
      "dtypes: datetime64[ns](2), float64(12), int64(4), object(1)\n",
      "memory usage: 5.7+ GB\n"
     ]
    }
   ],
   "source": [
    "df.info()"
   ]
  },
  {
   "cell_type": "markdown",
   "metadata": {},
   "source": [
    "**NOTE:** As you can see the consumed time was more than the python pure version. Probably it can have more benefits when using more data."
   ]
  },
  {
   "cell_type": "markdown",
   "metadata": {},
   "source": [
    "## Basic Aggregations and Groupbys\n",
    "\n",
    "Let's try some basic aggregation on our dataframe:"
   ]
  },
  {
   "cell_type": "code",
   "execution_count": 13,
   "metadata": {},
   "outputs": [
    {
     "name": "stdout",
     "output_type": "stream",
     "text": [
      "\n",
      "mean_by_each_passanger_count execution time: 0.5278885364532471 s\n",
      "passenger_count\n",
      "0     2.245734\n",
      "1    16.757501\n",
      "2    12.369026\n",
      "3   -18.456581\n",
      "4    14.271708\n",
      "5     2.912368\n",
      "6     2.838362\n",
      "7     4.658491\n",
      "8     2.426512\n",
      "9     5.477000\n",
      "Name: trip_distance, dtype: float64\n"
     ]
    }
   ],
   "source": [
    "def mean_by_each_passanger_count(df):\n",
    "    t0 = time.time()\n",
    "    trip_distance_mean = df.groupby('passenger_count').trip_distance.mean()\n",
    "    t1 = time.time()\n",
    "    print('\\nmean_by_each_passanger_count execution time:', t1 - t0, 's')\n",
    "    return trip_distance_mean\n",
    "\n",
    "\n",
    "trip_distance_mean = mean_by_each_passanger_count(df)\n",
    "print(trip_distance_mean)"
   ]
  },
  {
   "cell_type": "markdown",
   "metadata": {},
   "source": [
    "**NOTE:** Originally, the `groupby` was applied using `df.groupby('passenger_count')`, but this structure is not supported by `bodo` yet."
   ]
  },
  {
   "cell_type": "code",
   "execution_count": 14,
   "metadata": {},
   "outputs": [
    {
     "name": "stderr",
     "output_type": "stream",
     "text": [
      "/home/xmn/.conda/envs/bodoai-nb/lib/python3.8/site-packages/bodo/transforms/distributed_analysis.py:180: BodoWarning: No parallelism found for function 'mean_by_each_passanger_count'. This could be due to unsupported usage. See distributed diagnostics for more information.\n",
      "  warnings.warn(BodoWarning(\n"
     ]
    },
    {
     "name": "stdout",
     "output_type": "stream",
     "text": [
      "\n",
      "mean_by_each_passanger_count execution time: 1.1836318969726562 s\n",
      "passenger_count\n",
      "1    16.757501\n",
      "3   -18.456581\n",
      "2    12.369026\n",
      "5     2.912368\n",
      "6     2.838362\n",
      "4    14.271708\n",
      "0     2.245734\n",
      "9     5.477000\n",
      "7     4.658491\n",
      "8     2.426512\n",
      "Name: trip_distance, dtype: float64\n"
     ]
    }
   ],
   "source": [
    "mean_by_each_passanger_count = bodo.jit(mean_by_each_passanger_count)\n",
    "\n",
    "trip_distance_mean = mean_by_each_passanger_count(df)\n",
    "\n",
    "print(trip_distance_mean)"
   ]
  },
  {
   "cell_type": "code",
   "execution_count": 15,
   "metadata": {},
   "outputs": [
    {
     "name": "stderr",
     "output_type": "stream",
     "text": [
      "<ipython-input-15-3fb56b97724f>:5: SettingWithCopyWarning: \n",
      "A value is trying to be set on a copy of a slice from a DataFrame.\n",
      "Try using .loc[row_indexer,col_indexer] = value instead\n",
      "\n",
      "See the caveats in the documentation: https://pandas.pydata.org/pandas-docs/stable/user_guide/indexing.html#returning-a-view-versus-a-copy\n",
      "  df2['tip_fraction'] = df2.tip_amount / df2.fare_amount\n",
      "<ipython-input-15-3fb56b97724f>:6: SettingWithCopyWarning: \n",
      "A value is trying to be set on a copy of a slice from a DataFrame.\n",
      "Try using .loc[row_indexer,col_indexer] = value instead\n",
      "\n",
      "See the caveats in the documentation: https://pandas.pydata.org/pandas-docs/stable/user_guide/indexing.html#returning-a-view-versus-a-copy\n",
      "  df2['hour'] = df2.tpep_pickup_datetime.dt.hour\n"
     ]
    },
    {
     "name": "stdout",
     "output_type": "stream",
     "text": [
      "\n",
      "calc_tip_by_hour execution time: 6.289813995361328 s\n"
     ]
    },
    {
     "data": {
      "text/plain": [
       "<AxesSubplot:xlabel='hour'>"
      ]
     },
     "execution_count": 15,
     "metadata": {},
     "output_type": "execute_result"
    },
    {
     "data": {
      "image/png": "[encoded data removed]",
      "text/plain": [
       "<Figure size 432x288 with 1 Axes>"
      ]
     },
     "metadata": {
      "needs_background": "light"
     },
     "output_type": "display_data"
    }
   ],
   "source": [
    "def calc_tip_by_hour(df):\n",
    "    t0 = time.time()\n",
    "    \n",
    "    df2 = df[(df.tip_amount > 0) & (df.fare_amount > 0)]\n",
    "    df2['tip_fraction'] = df2.tip_amount / df2.fare_amount\n",
    "    df2['hour'] = df2.tpep_pickup_datetime.dt.hour\n",
    "    \n",
    "    hour = df2.groupby('hour').tip_fraction.mean()\n",
    "    \n",
    "    t1 = time.time()\n",
    "    print('\\ncalc_tip_by_hour execution time:', t1 - t0, 's')\n",
    "    \n",
    "    return hour\n",
    "\n",
    "tip_by_hour = calc_tip_by_hour(df)\n",
    "tip_by_hour.plot()"
   ]
  },
  {
   "cell_type": "markdown",
   "metadata": {},
   "source": [
    "**NOTE:** Originally, the `groupby` was applied directly using `df2.groupby(df2.tpep_pickup_datetime.dt.hour)`\n",
    "but this structure is not supported by `bodo` yet."
   ]
  },
  {
   "cell_type": "markdown",
   "metadata": {},
   "source": [
    "And, using **bodo**:"
   ]
  },
  {
   "cell_type": "code",
   "execution_count": 16,
   "metadata": {},
   "outputs": [
    {
     "name": "stderr",
     "output_type": "stream",
     "text": [
      "/home/xmn/.conda/envs/bodoai-nb/lib/python3.8/site-packages/bodo/transforms/distributed_analysis.py:180: BodoWarning: No parallelism found for function 'calc_tip_by_hour'. This could be due to unsupported usage. See distributed diagnostics for more information.\n",
      "  warnings.warn(BodoWarning(\n"
     ]
    },
    {
     "name": "stdout",
     "output_type": "stream",
     "text": [
      "\n",
      "calc_tip_by_hour execution time: 2.666127920150757 s\n"
     ]
    },
    {
     "data": {
      "text/plain": [
       "<AxesSubplot:xlabel='hour'>"
      ]
     },
     "execution_count": 16,
     "metadata": {},
     "output_type": "execute_result"
    },
    {
     "data": {
      "image/png": "[encoded data removed]",
      "text/plain": [
       "<Figure size 432x288 with 1 Axes>"
      ]
     },
     "metadata": {
      "needs_background": "light"
     },
     "output_type": "display_data"
    }
   ],
   "source": [
    "calc_tip_by_hour = bodo.jit(calc_tip_by_hour)\n",
    "\n",
    "tip_by_hour = calc_tip_by_hour(df).sort_index()\n",
    "tip_by_hour.plot()"
   ]
  },
  {
   "cell_type": "markdown",
   "metadata": {},
   "source": [
    "**NOTE**: The result needed to be ordered manually by index."
   ]
  },
  {
   "cell_type": "markdown",
   "metadata": {},
   "source": [
    "If we plot our data and add a line with the average of the tips, we can see that \n",
    "the tips are better in the first hours and last hours of the day."
   ]
  },
  {
   "cell_type": "code",
   "execution_count": 17,
   "metadata": {},
   "outputs": [
    {
     "data": {
      "text/plain": [
       "[<matplotlib.lines.Line2D at 0x7fd22f242af0>]"
      ]
     },
     "execution_count": 17,
     "metadata": {},
     "output_type": "execute_result"
    },
    {
     "data": {
      "image/png": "[encoded data removed]",
      "text/plain": [
       "<Figure size 432x288 with 1 Axes>"
      ]
     },
     "metadata": {
      "needs_background": "light"
     },
     "output_type": "display_data"
    }
   ],
   "source": [
    "tip_by_hour.plot()\n",
    "plt.plot(tip_by_hour.index, [tip_by_hour.mean()] * tip_by_hour.index.size)"
   ]
  },
  {
   "cell_type": "markdown",
   "metadata": {},
   "source": [
    "## Joins and Correlation"
   ]
  },
  {
   "cell_type": "markdown",
   "metadata": {},
   "source": [
    "[**Data Frame Joins**](https://pandas.pydata.org/pandas-docs/stable/user_guide/merging.html) are very similar to databases [**SQL joins**](https://en.wikipedia.org/wiki/Join_(SQL)). So, basically they are different ways to combine to resource data.\n",
    "\n",
    "So, lets play with our data:\n",
    "\n",
    "- create a `series` that will map the `payment_type ID` to the payment name;\n",
    "- join this series with the original data;\n",
    "- show the average tip for each type of payment;\n",
    "\n",
    "To get it working with **bodo**, we need to check some recommendations from the [documentation page](https://docs.bodo.ai/latest/source/pandas.html#general-functions) method:\n",
    "\n",
    "- Arguments `left`, `right` should be dataframes.\n",
    "- `how`, `on`, `left_on`, `right_on`, `left_index`, and `right_index` are supported but should be constant values.\n",
    "- The output dataframe is not sorted by default for better parallel performance (Pandas may preserve key order depending on how). One can use explicit sort if needed.\n",
    "\n",
    "**NOTE:** the parameters for columns should be constant string instead of the data frame column object, for example, instead of `df.payment_type` use just `'payment_type'`.\n",
    "\n",
    "**NOTE:** at this moment there is a bug related to join with index with **bodo**. the problem was already fixed and the solution will be available soon."
   ]
  },
  {
   "cell_type": "code",
   "execution_count": 18,
   "metadata": {},
   "outputs": [
    {
     "name": "stdout",
     "output_type": "stream",
     "text": [
      "calc_average_by_payment_type execution time: 14.066501140594482 s\n",
      "(5,)\n"
     ]
    },
    {
     "data": {
      "text/plain": [
       "payment_name\n",
       "Cash           0.000232\n",
       "Credit Card    2.758297\n",
       "Dispute       -0.012648\n",
       "No Charge      0.005050\n",
       "Unknown        0.000000\n",
       "Name: tip_amount, dtype: float64"
      ]
     },
     "execution_count": 18,
     "metadata": {},
     "output_type": "execute_result"
    }
   ],
   "source": [
    "def calc_average_by_payment_type(df):\n",
    "    t0 = time.time()\n",
    "    payments = pd.DataFrame({\n",
    "        'payment_name': [\n",
    "            'Credit Card',\n",
    "            'Cash',\n",
    "            'No Charge',\n",
    "            'Dispute',\n",
    "            'Unknown',\n",
    "            'Voided trip'\n",
    "        ], \"IDX\": [1, 2, 3, 4, 5, 6]\n",
    "    },)\n",
    "    df2 = df.merge(payments, left_on='payment_type', right_on=\"IDX\")\n",
    "    result = df2.groupby('payment_name').tip_amount.mean()\n",
    "    t1 = time.time()\n",
    "    print('calc_average_by_payment_type execution time:', t1 - t0, 's')\n",
    "    return result\n",
    "\n",
    "\n",
    "result = calc_average_by_payment_type(df)\n",
    "print(result.shape)\n",
    "result"
   ]
  },
  {
   "cell_type": "code",
   "execution_count": 19,
   "metadata": {},
   "outputs": [
    {
     "name": "stderr",
     "output_type": "stream",
     "text": [
      "/home/xmn/.conda/envs/bodoai-nb/lib/python3.8/site-packages/bodo/transforms/distributed_analysis.py:180: BodoWarning: No parallelism found for function 'calc_average_by_payment_type'. This could be due to unsupported usage. See distributed diagnostics for more information.\n",
      "  warnings.warn(BodoWarning(\n"
     ]
    },
    {
     "name": "stdout",
     "output_type": "stream",
     "text": [
      "calc_average_by_payment_type execution time: 4.786678075790405 s\n"
     ]
    },
    {
     "data": {
      "text/plain": [
       "payment_name\n",
       "Cash           0.000232\n",
       "Credit Card    2.758297\n",
       "Dispute       -0.012648\n",
       "No Charge      0.005050\n",
       "Unknown        0.000000\n",
       "Name: tip_amount, dtype: float64"
      ]
     },
     "execution_count": 19,
     "metadata": {},
     "output_type": "execute_result"
    }
   ],
   "source": [
    "calc_average_by_payment_type = bodo.jit(calc_average_by_payment_type)\n",
    "\n",
    "result = calc_average_by_payment_type(df)\n",
    "result.sort_index()"
   ]
  },
  {
   "cell_type": "markdown",
   "metadata": {},
   "source": [
    "As we can see the average tip for *Cash* is very close to zero. Lets take a look with there is any correlation between cash payment and no tips (using Pearson correlation)."
   ]
  },
  {
   "cell_type": "code",
   "execution_count": 20,
   "metadata": {},
   "outputs": [
    {
     "name": "stdout",
     "output_type": "stream",
     "text": [
      "calc_corr_cash_tip execution time: 14.031903982162476 s\n"
     ]
    },
    {
     "data": {
      "text/html": [
       "<div>\n",
       "<style scoped>\n",
       "    .dataframe tbody tr th:only-of-type {\n",
       "        vertical-align: middle;\n",
       "    }\n",
       "\n",
       "    .dataframe tbody tr th {\n",
       "        vertical-align: top;\n",
       "    }\n",
       "\n",
       "    .dataframe thead th {\n",
       "        text-align: right;\n",
       "    }\n",
       "</style>\n",
       "<table border=\"1\" class=\"dataframe\">\n",
       "  <thead>\n",
       "    <tr style=\"text-align: right;\">\n",
       "      <th></th>\n",
       "      <th>tip_amount</th>\n",
       "      <th>payment_name</th>\n",
       "    </tr>\n",
       "  </thead>\n",
       "  <tbody>\n",
       "    <tr>\n",
       "      <th>tip_amount</th>\n",
       "      <td>1.000000</td>\n",
       "      <td>0.944893</td>\n",
       "    </tr>\n",
       "    <tr>\n",
       "      <th>payment_name</th>\n",
       "      <td>0.944893</td>\n",
       "      <td>1.000000</td>\n",
       "    </tr>\n",
       "  </tbody>\n",
       "</table>\n",
       "</div>"
      ],
      "text/plain": [
       "              tip_amount  payment_name\n",
       "tip_amount      1.000000      0.944893\n",
       "payment_name    0.944893      1.000000"
      ]
     },
     "execution_count": 20,
     "metadata": {},
     "output_type": "execute_result"
    }
   ],
   "source": [
    "def calc_corr_cash_tip(df):\n",
    "    t0 = time.time()\n",
    "    payments = pd.DataFrame({\n",
    "        'payment_name': [\n",
    "            'Credit Card',\n",
    "            'Cash',\n",
    "            'No Charge',\n",
    "            'Dispute',\n",
    "            'Unknown',\n",
    "            'Voided trip'\n",
    "        ], \"IDX\": [1, 2, 3, 4, 5, 6]\n",
    "    },)\n",
    "    df2 = df.merge(payments, left_on='payment_type', right_on=\"IDX\")\n",
    "    \n",
    "    zero_tip = df2.tip_amount == 0\n",
    "    cash = df2.payment_name == 'Cash'\n",
    "\n",
    "    result = pd.concat([zero_tip, cash], axis=1).corr()\n",
    "    \n",
    "    t1 = time.time()\n",
    "    print('calc_corr_cash_tip execution time:', t1 - t0, 's')\n",
    "    return result\n",
    "\n",
    "calc_corr_cash_tip(df)"
   ]
  },
  {
   "cell_type": "markdown",
   "metadata": {},
   "source": [
    "And, using **bodo**:"
   ]
  },
  {
   "cell_type": "code",
   "execution_count": 21,
   "metadata": {},
   "outputs": [
    {
     "name": "stderr",
     "output_type": "stream",
     "text": [
      "/home/xmn/.conda/envs/bodoai-nb/lib/python3.8/site-packages/bodo/transforms/distributed_analysis.py:180: BodoWarning: No parallelism found for function 'calc_corr_cash_tip'. This could be due to unsupported usage. See distributed diagnostics for more information.\n",
      "  warnings.warn(BodoWarning(\n"
     ]
    },
    {
     "name": "stdout",
     "output_type": "stream",
     "text": [
      "calc_corr_cash_tip execution time: 3.9850640296936035 s\n"
     ]
    },
    {
     "data": {
      "text/html": [
       "<div>\n",
       "<style scoped>\n",
       "    .dataframe tbody tr th:only-of-type {\n",
       "        vertical-align: middle;\n",
       "    }\n",
       "\n",
       "    .dataframe tbody tr th {\n",
       "        vertical-align: top;\n",
       "    }\n",
       "\n",
       "    .dataframe thead th {\n",
       "        text-align: right;\n",
       "    }\n",
       "</style>\n",
       "<table border=\"1\" class=\"dataframe\">\n",
       "  <thead>\n",
       "    <tr style=\"text-align: right;\">\n",
       "      <th></th>\n",
       "      <th>0</th>\n",
       "      <th>1</th>\n",
       "    </tr>\n",
       "  </thead>\n",
       "  <tbody>\n",
       "    <tr>\n",
       "      <th>0</th>\n",
       "      <td>1.000000</td>\n",
       "      <td>0.944893</td>\n",
       "    </tr>\n",
       "    <tr>\n",
       "      <th>1</th>\n",
       "      <td>0.944893</td>\n",
       "      <td>1.000000</td>\n",
       "    </tr>\n",
       "  </tbody>\n",
       "</table>\n",
       "</div>"
      ],
      "text/plain": [
       "          0         1\n",
       "0  1.000000  0.944893\n",
       "1  0.944893  1.000000"
      ]
     },
     "execution_count": 21,
     "metadata": {},
     "output_type": "execute_result"
    }
   ],
   "source": [
    "calc_corr_cash_tip = bodo.jit(calc_corr_cash_tip)\n",
    "\n",
    "result = calc_corr_cash_tip(df)\n",
    "result.sort_index()"
   ]
  },
  {
   "cell_type": "markdown",
   "metadata": {},
   "source": [
    "And as we can see, there is a high correlation between paying in cash with no tip."
   ]
  },
  {
   "cell_type": "markdown",
   "metadata": {},
   "source": [
    "## Shuffles and Time Series"
   ]
  },
  {
   "cell_type": "markdown",
   "metadata": {},
   "source": [
    "As mentioned by Matthew Rocklini in his [blog post](https://matthewrocklin.com/blog/work/2017/01/12/dask-dataframes), `suffle` is the base of computations like `groupby-apply`, distributed joins on columns that are not the index, etc.\n",
    "\n",
    "Let's check how it performes with pure `pandas` and `bodo`."
   ]
  },
  {
   "cell_type": "code",
   "execution_count": 22,
   "metadata": {},
   "outputs": [
    {
     "name": "stdout",
     "output_type": "stream",
     "text": [
      "set_tpep_pickup_datetime_as_index execution time: 1.3675172328948975 s\n"
     ]
    },
    {
     "data": {
      "text/html": [
       "<div>\n",
       "<style scoped>\n",
       "    .dataframe tbody tr th:only-of-type {\n",
       "        vertical-align: middle;\n",
       "    }\n",
       "\n",
       "    .dataframe tbody tr th {\n",
       "        vertical-align: top;\n",
       "    }\n",
       "\n",
       "    .dataframe thead th {\n",
       "        text-align: right;\n",
       "    }\n",
       "</style>\n",
       "<table border=\"1\" class=\"dataframe\">\n",
       "  <thead>\n",
       "    <tr style=\"text-align: right;\">\n",
       "      <th></th>\n",
       "      <th>VendorID</th>\n",
       "      <th>tpep_dropoff_datetime</th>\n",
       "      <th>passenger_count</th>\n",
       "      <th>trip_distance</th>\n",
       "      <th>pickup_longitude</th>\n",
       "      <th>pickup_latitude</th>\n",
       "      <th>RateCodeID</th>\n",
       "      <th>store_and_fwd_flag</th>\n",
       "      <th>dropoff_longitude</th>\n",
       "      <th>dropoff_latitude</th>\n",
       "      <th>payment_type</th>\n",
       "      <th>fare_amount</th>\n",
       "      <th>extra</th>\n",
       "      <th>mta_tax</th>\n",
       "      <th>tip_amount</th>\n",
       "      <th>tolls_amount</th>\n",
       "      <th>improvement_surcharge</th>\n",
       "      <th>total_amount</th>\n",
       "    </tr>\n",
       "    <tr>\n",
       "      <th>tpep_pickup_datetime</th>\n",
       "      <th></th>\n",
       "      <th></th>\n",
       "      <th></th>\n",
       "      <th></th>\n",
       "      <th></th>\n",
       "      <th></th>\n",
       "      <th></th>\n",
       "      <th></th>\n",
       "      <th></th>\n",
       "      <th></th>\n",
       "      <th></th>\n",
       "      <th></th>\n",
       "      <th></th>\n",
       "      <th></th>\n",
       "      <th></th>\n",
       "      <th></th>\n",
       "      <th></th>\n",
       "      <th></th>\n",
       "    </tr>\n",
       "  </thead>\n",
       "  <tbody>\n",
       "    <tr>\n",
       "      <th>2015-01-15 19:05:39</th>\n",
       "      <td>2</td>\n",
       "      <td>2015-01-15 19:23:42</td>\n",
       "      <td>1</td>\n",
       "      <td>1.59</td>\n",
       "      <td>-73.993896</td>\n",
       "      <td>40.750111</td>\n",
       "      <td>1</td>\n",
       "      <td>N</td>\n",
       "      <td>-73.974785</td>\n",
       "      <td>40.750618</td>\n",
       "      <td>1</td>\n",
       "      <td>12.0</td>\n",
       "      <td>1.0</td>\n",
       "      <td>0.5</td>\n",
       "      <td>3.25</td>\n",
       "      <td>0.0</td>\n",
       "      <td>0.3</td>\n",
       "      <td>17.05</td>\n",
       "    </tr>\n",
       "    <tr>\n",
       "      <th>2015-01-10 20:33:38</th>\n",
       "      <td>1</td>\n",
       "      <td>2015-01-10 20:53:28</td>\n",
       "      <td>1</td>\n",
       "      <td>3.30</td>\n",
       "      <td>-74.001648</td>\n",
       "      <td>40.724243</td>\n",
       "      <td>1</td>\n",
       "      <td>N</td>\n",
       "      <td>-73.994415</td>\n",
       "      <td>40.759109</td>\n",
       "      <td>1</td>\n",
       "      <td>14.5</td>\n",
       "      <td>0.5</td>\n",
       "      <td>0.5</td>\n",
       "      <td>2.00</td>\n",
       "      <td>0.0</td>\n",
       "      <td>0.3</td>\n",
       "      <td>17.80</td>\n",
       "    </tr>\n",
       "    <tr>\n",
       "      <th>2015-01-10 20:33:38</th>\n",
       "      <td>1</td>\n",
       "      <td>2015-01-10 20:43:41</td>\n",
       "      <td>1</td>\n",
       "      <td>1.80</td>\n",
       "      <td>-73.963341</td>\n",
       "      <td>40.802788</td>\n",
       "      <td>1</td>\n",
       "      <td>N</td>\n",
       "      <td>-73.951820</td>\n",
       "      <td>40.824413</td>\n",
       "      <td>2</td>\n",
       "      <td>9.5</td>\n",
       "      <td>0.5</td>\n",
       "      <td>0.5</td>\n",
       "      <td>0.00</td>\n",
       "      <td>0.0</td>\n",
       "      <td>0.3</td>\n",
       "      <td>10.80</td>\n",
       "    </tr>\n",
       "    <tr>\n",
       "      <th>2015-01-10 20:33:39</th>\n",
       "      <td>1</td>\n",
       "      <td>2015-01-10 20:35:31</td>\n",
       "      <td>1</td>\n",
       "      <td>0.50</td>\n",
       "      <td>-74.009087</td>\n",
       "      <td>40.713818</td>\n",
       "      <td>1</td>\n",
       "      <td>N</td>\n",
       "      <td>-74.004326</td>\n",
       "      <td>40.719986</td>\n",
       "      <td>2</td>\n",
       "      <td>3.5</td>\n",
       "      <td>0.5</td>\n",
       "      <td>0.5</td>\n",
       "      <td>0.00</td>\n",
       "      <td>0.0</td>\n",
       "      <td>0.3</td>\n",
       "      <td>4.80</td>\n",
       "    </tr>\n",
       "    <tr>\n",
       "      <th>2015-01-10 20:33:39</th>\n",
       "      <td>1</td>\n",
       "      <td>2015-01-10 20:52:58</td>\n",
       "      <td>1</td>\n",
       "      <td>3.00</td>\n",
       "      <td>-73.971176</td>\n",
       "      <td>40.762428</td>\n",
       "      <td>1</td>\n",
       "      <td>N</td>\n",
       "      <td>-74.004181</td>\n",
       "      <td>40.742653</td>\n",
       "      <td>2</td>\n",
       "      <td>15.0</td>\n",
       "      <td>0.5</td>\n",
       "      <td>0.5</td>\n",
       "      <td>0.00</td>\n",
       "      <td>0.0</td>\n",
       "      <td>0.3</td>\n",
       "      <td>16.30</td>\n",
       "    </tr>\n",
       "  </tbody>\n",
       "</table>\n",
       "</div>"
      ],
      "text/plain": [
       "                      VendorID tpep_dropoff_datetime  passenger_count  \\\n",
       "tpep_pickup_datetime                                                    \n",
       "2015-01-15 19:05:39          2   2015-01-15 19:23:42                1   \n",
       "2015-01-10 20:33:38          1   2015-01-10 20:53:28                1   \n",
       "2015-01-10 20:33:38          1   2015-01-10 20:43:41                1   \n",
       "2015-01-10 20:33:39          1   2015-01-10 20:35:31                1   \n",
       "2015-01-10 20:33:39          1   2015-01-10 20:52:58                1   \n",
       "\n",
       "                      trip_distance  pickup_longitude  pickup_latitude  \\\n",
       "tpep_pickup_datetime                                                     \n",
       "2015-01-15 19:05:39            1.59        -73.993896        40.750111   \n",
       "2015-01-10 20:33:38            3.30        -74.001648        40.724243   \n",
       "2015-01-10 20:33:38            1.80        -73.963341        40.802788   \n",
       "2015-01-10 20:33:39            0.50        -74.009087        40.713818   \n",
       "2015-01-10 20:33:39            3.00        -73.971176        40.762428   \n",
       "\n",
       "                      RateCodeID store_and_fwd_flag  dropoff_longitude  \\\n",
       "tpep_pickup_datetime                                                     \n",
       "2015-01-15 19:05:39            1                  N         -73.974785   \n",
       "2015-01-10 20:33:38            1                  N         -73.994415   \n",
       "2015-01-10 20:33:38            1                  N         -73.951820   \n",
       "2015-01-10 20:33:39            1                  N         -74.004326   \n",
       "2015-01-10 20:33:39            1                  N         -74.004181   \n",
       "\n",
       "                      dropoff_latitude  payment_type  fare_amount  extra  \\\n",
       "tpep_pickup_datetime                                                       \n",
       "2015-01-15 19:05:39          40.750618             1         12.0    1.0   \n",
       "2015-01-10 20:33:38          40.759109             1         14.5    0.5   \n",
       "2015-01-10 20:33:38          40.824413             2          9.5    0.5   \n",
       "2015-01-10 20:33:39          40.719986             2          3.5    0.5   \n",
       "2015-01-10 20:33:39          40.742653             2         15.0    0.5   \n",
       "\n",
       "                      mta_tax  tip_amount  tolls_amount  \\\n",
       "tpep_pickup_datetime                                      \n",
       "2015-01-15 19:05:39       0.5        3.25           0.0   \n",
       "2015-01-10 20:33:38       0.5        2.00           0.0   \n",
       "2015-01-10 20:33:38       0.5        0.00           0.0   \n",
       "2015-01-10 20:33:39       0.5        0.00           0.0   \n",
       "2015-01-10 20:33:39       0.5        0.00           0.0   \n",
       "\n",
       "                      improvement_surcharge  total_amount  \n",
       "tpep_pickup_datetime                                       \n",
       "2015-01-15 19:05:39                     0.3         17.05  \n",
       "2015-01-10 20:33:38                     0.3         17.80  \n",
       "2015-01-10 20:33:38                     0.3         10.80  \n",
       "2015-01-10 20:33:39                     0.3          4.80  \n",
       "2015-01-10 20:33:39                     0.3         16.30  "
      ]
     },
     "execution_count": 22,
     "metadata": {},
     "output_type": "execute_result"
    }
   ],
   "source": [
    "def set_tpep_pickup_datetime_as_index(df):\n",
    "    t0 = time.time()\n",
    "    result = df.set_index('tpep_pickup_datetime')\n",
    "    t1 = time.time()\n",
    "    print('set_tpep_pickup_datetime_as_index execution time:', t1 - t0, 's')\n",
    "    return result\n",
    "\n",
    "\n",
    "result = set_tpep_pickup_datetime_as_index(df)\n",
    "result.head()"
   ]
  },
  {
   "cell_type": "markdown",
   "metadata": {},
   "source": [
    "Now, that the dataframe has been indexed with date and time format, the time series functionallity is available:"
   ]
  },
  {
   "cell_type": "code",
   "execution_count": 23,
   "metadata": {},
   "outputs": [
    {
     "name": "stdout",
     "output_type": "stream",
     "text": [
      "calc_passenger_count_by_day execution time: 9.475220918655396 s\n"
     ]
    },
    {
     "data": {
      "text/plain": [
       "<AxesSubplot:xlabel='tpep_pickup_datetime'>"
      ]
     },
     "execution_count": 23,
     "metadata": {},
     "output_type": "execute_result"
    },
    {
     "data": {
      "image/png": "[encoded data removed]",
      "text/plain": [
       "<Figure size 432x288 with 1 Axes>"
      ]
     },
     "metadata": {
      "needs_background": "light"
     },
     "output_type": "display_data"
    }
   ],
   "source": [
    "def calc_passenger_count_by_day(df):\n",
    "    t0 = time.time()\n",
    "    result = df.passenger_count.resample('1d').mean()\n",
    "    t1 = time.time()\n",
    "    print('calc_passenger_count_by_day execution time:', t1 - t0, 's')\n",
    "    return result\n",
    "\n",
    "\n",
    "calc_passenger_count_by_day(result).plot()"
   ]
  },
  {
   "cell_type": "markdown",
   "metadata": {},
   "source": [
    "And, as always, using **bodo**:"
   ]
  },
  {
   "cell_type": "code",
   "execution_count": 24,
   "metadata": {},
   "outputs": [
    {
     "name": "stderr",
     "output_type": "stream",
     "text": [
      "/home/xmn/.conda/envs/bodoai-nb/lib/python3.8/site-packages/bodo/transforms/distributed_analysis.py:180: BodoWarning: No parallelism found for function 'set_tpep_pickup_datetime_as_index'. This could be due to unsupported usage. See distributed diagnostics for more information.\n",
      "  warnings.warn(BodoWarning(\n"
     ]
    },
    {
     "name": "stdout",
     "output_type": "stream",
     "text": [
      "set_tpep_pickup_datetime_as_index execution time: 0.9352290630340576 s\n"
     ]
    },
    {
     "data": {
      "text/html": [
       "<div>\n",
       "<style scoped>\n",
       "    .dataframe tbody tr th:only-of-type {\n",
       "        vertical-align: middle;\n",
       "    }\n",
       "\n",
       "    .dataframe tbody tr th {\n",
       "        vertical-align: top;\n",
       "    }\n",
       "\n",
       "    .dataframe thead th {\n",
       "        text-align: right;\n",
       "    }\n",
       "</style>\n",
       "<table border=\"1\" class=\"dataframe\">\n",
       "  <thead>\n",
       "    <tr style=\"text-align: right;\">\n",
       "      <th></th>\n",
       "      <th>VendorID</th>\n",
       "      <th>tpep_dropoff_datetime</th>\n",
       "      <th>passenger_count</th>\n",
       "      <th>trip_distance</th>\n",
       "      <th>pickup_longitude</th>\n",
       "      <th>pickup_latitude</th>\n",
       "      <th>RateCodeID</th>\n",
       "      <th>store_and_fwd_flag</th>\n",
       "      <th>dropoff_longitude</th>\n",
       "      <th>dropoff_latitude</th>\n",
       "      <th>payment_type</th>\n",
       "      <th>fare_amount</th>\n",
       "      <th>extra</th>\n",
       "      <th>mta_tax</th>\n",
       "      <th>tip_amount</th>\n",
       "      <th>tolls_amount</th>\n",
       "      <th>improvement_surcharge</th>\n",
       "      <th>total_amount</th>\n",
       "    </tr>\n",
       "    <tr>\n",
       "      <th>tpep_pickup_datetime</th>\n",
       "      <th></th>\n",
       "      <th></th>\n",
       "      <th></th>\n",
       "      <th></th>\n",
       "      <th></th>\n",
       "      <th></th>\n",
       "      <th></th>\n",
       "      <th></th>\n",
       "      <th></th>\n",
       "      <th></th>\n",
       "      <th></th>\n",
       "      <th></th>\n",
       "      <th></th>\n",
       "      <th></th>\n",
       "      <th></th>\n",
       "      <th></th>\n",
       "      <th></th>\n",
       "      <th></th>\n",
       "    </tr>\n",
       "  </thead>\n",
       "  <tbody>\n",
       "    <tr>\n",
       "      <th>2015-01-15 19:05:39</th>\n",
       "      <td>2</td>\n",
       "      <td>2015-01-15 19:23:42</td>\n",
       "      <td>1</td>\n",
       "      <td>1.59</td>\n",
       "      <td>-73.993896</td>\n",
       "      <td>40.750111</td>\n",
       "      <td>1</td>\n",
       "      <td>N</td>\n",
       "      <td>-73.974785</td>\n",
       "      <td>40.750618</td>\n",
       "      <td>1</td>\n",
       "      <td>12.0</td>\n",
       "      <td>1.0</td>\n",
       "      <td>0.5</td>\n",
       "      <td>3.25</td>\n",
       "      <td>0.0</td>\n",
       "      <td>0.3</td>\n",
       "      <td>17.05</td>\n",
       "    </tr>\n",
       "    <tr>\n",
       "      <th>2015-01-10 20:33:38</th>\n",
       "      <td>1</td>\n",
       "      <td>2015-01-10 20:53:28</td>\n",
       "      <td>1</td>\n",
       "      <td>3.30</td>\n",
       "      <td>-74.001648</td>\n",
       "      <td>40.724243</td>\n",
       "      <td>1</td>\n",
       "      <td>N</td>\n",
       "      <td>-73.994415</td>\n",
       "      <td>40.759109</td>\n",
       "      <td>1</td>\n",
       "      <td>14.5</td>\n",
       "      <td>0.5</td>\n",
       "      <td>0.5</td>\n",
       "      <td>2.00</td>\n",
       "      <td>0.0</td>\n",
       "      <td>0.3</td>\n",
       "      <td>17.80</td>\n",
       "    </tr>\n",
       "    <tr>\n",
       "      <th>2015-01-10 20:33:38</th>\n",
       "      <td>1</td>\n",
       "      <td>2015-01-10 20:43:41</td>\n",
       "      <td>1</td>\n",
       "      <td>1.80</td>\n",
       "      <td>-73.963341</td>\n",
       "      <td>40.802788</td>\n",
       "      <td>1</td>\n",
       "      <td>N</td>\n",
       "      <td>-73.951820</td>\n",
       "      <td>40.824413</td>\n",
       "      <td>2</td>\n",
       "      <td>9.5</td>\n",
       "      <td>0.5</td>\n",
       "      <td>0.5</td>\n",
       "      <td>0.00</td>\n",
       "      <td>0.0</td>\n",
       "      <td>0.3</td>\n",
       "      <td>10.80</td>\n",
       "    </tr>\n",
       "    <tr>\n",
       "      <th>2015-01-10 20:33:39</th>\n",
       "      <td>1</td>\n",
       "      <td>2015-01-10 20:35:31</td>\n",
       "      <td>1</td>\n",
       "      <td>0.50</td>\n",
       "      <td>-74.009087</td>\n",
       "      <td>40.713818</td>\n",
       "      <td>1</td>\n",
       "      <td>N</td>\n",
       "      <td>-74.004326</td>\n",
       "      <td>40.719986</td>\n",
       "      <td>2</td>\n",
       "      <td>3.5</td>\n",
       "      <td>0.5</td>\n",
       "      <td>0.5</td>\n",
       "      <td>0.00</td>\n",
       "      <td>0.0</td>\n",
       "      <td>0.3</td>\n",
       "      <td>4.80</td>\n",
       "    </tr>\n",
       "    <tr>\n",
       "      <th>2015-01-10 20:33:39</th>\n",
       "      <td>1</td>\n",
       "      <td>2015-01-10 20:52:58</td>\n",
       "      <td>1</td>\n",
       "      <td>3.00</td>\n",
       "      <td>-73.971176</td>\n",
       "      <td>40.762428</td>\n",
       "      <td>1</td>\n",
       "      <td>N</td>\n",
       "      <td>-74.004181</td>\n",
       "      <td>40.742653</td>\n",
       "      <td>2</td>\n",
       "      <td>15.0</td>\n",
       "      <td>0.5</td>\n",
       "      <td>0.5</td>\n",
       "      <td>0.00</td>\n",
       "      <td>0.0</td>\n",
       "      <td>0.3</td>\n",
       "      <td>16.30</td>\n",
       "    </tr>\n",
       "  </tbody>\n",
       "</table>\n",
       "</div>"
      ],
      "text/plain": [
       "                      VendorID tpep_dropoff_datetime  passenger_count  \\\n",
       "tpep_pickup_datetime                                                    \n",
       "2015-01-15 19:05:39          2   2015-01-15 19:23:42                1   \n",
       "2015-01-10 20:33:38          1   2015-01-10 20:53:28                1   \n",
       "2015-01-10 20:33:38          1   2015-01-10 20:43:41                1   \n",
       "2015-01-10 20:33:39          1   2015-01-10 20:35:31                1   \n",
       "2015-01-10 20:33:39          1   2015-01-10 20:52:58                1   \n",
       "\n",
       "                      trip_distance  pickup_longitude  pickup_latitude  \\\n",
       "tpep_pickup_datetime                                                     \n",
       "2015-01-15 19:05:39            1.59        -73.993896        40.750111   \n",
       "2015-01-10 20:33:38            3.30        -74.001648        40.724243   \n",
       "2015-01-10 20:33:38            1.80        -73.963341        40.802788   \n",
       "2015-01-10 20:33:39            0.50        -74.009087        40.713818   \n",
       "2015-01-10 20:33:39            3.00        -73.971176        40.762428   \n",
       "\n",
       "                      RateCodeID store_and_fwd_flag  dropoff_longitude  \\\n",
       "tpep_pickup_datetime                                                     \n",
       "2015-01-15 19:05:39            1                  N         -73.974785   \n",
       "2015-01-10 20:33:38            1                  N         -73.994415   \n",
       "2015-01-10 20:33:38            1                  N         -73.951820   \n",
       "2015-01-10 20:33:39            1                  N         -74.004326   \n",
       "2015-01-10 20:33:39            1                  N         -74.004181   \n",
       "\n",
       "                      dropoff_latitude  payment_type  fare_amount  extra  \\\n",
       "tpep_pickup_datetime                                                       \n",
       "2015-01-15 19:05:39          40.750618             1         12.0    1.0   \n",
       "2015-01-10 20:33:38          40.759109             1         14.5    0.5   \n",
       "2015-01-10 20:33:38          40.824413             2          9.5    0.5   \n",
       "2015-01-10 20:33:39          40.719986             2          3.5    0.5   \n",
       "2015-01-10 20:33:39          40.742653             2         15.0    0.5   \n",
       "\n",
       "                      mta_tax  tip_amount  tolls_amount  \\\n",
       "tpep_pickup_datetime                                      \n",
       "2015-01-15 19:05:39       0.5        3.25           0.0   \n",
       "2015-01-10 20:33:38       0.5        2.00           0.0   \n",
       "2015-01-10 20:33:38       0.5        0.00           0.0   \n",
       "2015-01-10 20:33:39       0.5        0.00           0.0   \n",
       "2015-01-10 20:33:39       0.5        0.00           0.0   \n",
       "\n",
       "                      improvement_surcharge  total_amount  \n",
       "tpep_pickup_datetime                                       \n",
       "2015-01-15 19:05:39                     0.3         17.05  \n",
       "2015-01-10 20:33:38                     0.3         17.80  \n",
       "2015-01-10 20:33:38                     0.3         10.80  \n",
       "2015-01-10 20:33:39                     0.3          4.80  \n",
       "2015-01-10 20:33:39                     0.3         16.30  "
      ]
     },
     "execution_count": 24,
     "metadata": {},
     "output_type": "execute_result"
    }
   ],
   "source": [
    "set_tpep_pickup_datetime_as_index = bodo.jit(set_tpep_pickup_datetime_as_index)\n",
    "\n",
    "result = set_tpep_pickup_datetime_as_index(df)\n",
    "result.head()"
   ]
  },
  {
   "cell_type": "markdown",
   "metadata": {},
   "source": [
    "**NOTE:** at this moment, `calc_passenger_count_by_day` cannot be used with **bodo** because `Series.resample` is not supported yet."
   ]
  },
  {
   "cell_type": "markdown",
   "metadata": {},
   "source": [
    "## Parquet"
   ]
  },
  {
   "cell_type": "markdown",
   "metadata": {},
   "source": [
    "According to the [Parquet web page](https://parquet.apache.org/):\n",
    "\n",
    "> Apache Parquet is a columnar storage format available to any project in the Hadoop ecosystem, regardless of the choice of data processing framework, data model or programming language.\n",
    "\n",
    "This blog post is already using `parquet` file for data storage."
   ]
  },
  {
   "cell_type": "markdown",
   "metadata": {},
   "source": [
    "## Final thoughts"
   ]
  },
  {
   "cell_type": "markdown",
   "metadata": {},
   "source": [
    "Although the **bodo** functions have showed a better performance (~20x faster), we need to take in account that the measured was done inside the function and it didn't considered the time for the entire workflow. For example:"
   ]
  },
  {
   "cell_type": "code",
   "execution_count": 25,
   "metadata": {},
   "outputs": [
    {
     "data": {
      "text/plain": [
       "payment_type\n",
       "1    2.758297\n",
       "2    0.000232\n",
       "3    0.005050\n",
       "4   -0.012648\n",
       "5    0.000000\n",
       "Name: tip_amount, dtype: float64"
      ]
     },
     "metadata": {},
     "output_type": "display_data"
    },
    {
     "name": "stdout",
     "output_type": "stream",
     "text": [
      "calc_tip_average_by_payment execution time: 0.4486424922943115 s\n"
     ]
    }
   ],
   "source": [
    "def calc_tip_average_by_payment(df):\n",
    "    return df.groupby('payment_type').tip_amount.mean()\n",
    "\n",
    "\n",
    "t0 = time.time()\n",
    "result = calc_tip_average_by_payment(df)\n",
    "t1 = time.time()\n",
    "\n",
    "display(result)\n",
    "print('calc_tip_average_by_payment execution time:', t1 - t0, 's')"
   ]
  },
  {
   "cell_type": "code",
   "execution_count": 26,
   "metadata": {},
   "outputs": [
    {
     "name": "stderr",
     "output_type": "stream",
     "text": [
      "/home/xmn/.conda/envs/bodoai-nb/lib/python3.8/site-packages/bodo/transforms/distributed_analysis.py:180: BodoWarning: No parallelism found for function 'calc_tip_average_by_payment'. This could be due to unsupported usage. See distributed diagnostics for more information.\n",
      "  warnings.warn(BodoWarning(\n"
     ]
    },
    {
     "data": {
      "text/plain": [
       "payment_type\n",
       "1    2.758297\n",
       "2    0.000232\n",
       "3    0.005050\n",
       "4   -0.012648\n",
       "5    0.000000\n",
       "Name: tip_amount, dtype: float64"
      ]
     },
     "metadata": {},
     "output_type": "display_data"
    },
    {
     "name": "stdout",
     "output_type": "stream",
     "text": [
      "calc_tip_average_by_payment execution time: 1.6555366516113281 s\n"
     ]
    }
   ],
   "source": [
    "calc_tip_average_by_payment = bodo.jit(calc_tip_average_by_payment)\n",
    "\n",
    "t0 = time.time()\n",
    "result = calc_tip_average_by_payment(df)\n",
    "t1 = time.time()\n",
    "\n",
    "display(result)\n",
    "print('calc_tip_average_by_payment execution time:', t1 - t0, 's')"
   ]
  },
  {
   "cell_type": "markdown",
   "metadata": {},
   "source": [
    "As you can see the bodo function is more than 3 times slower than the pure `pandas` version. Also, if we run it for once again, the diffence is very low."
   ]
  },
  {
   "cell_type": "code",
   "execution_count": 27,
   "metadata": {},
   "outputs": [
    {
     "data": {
      "text/plain": [
       "payment_type\n",
       "1    2.758297\n",
       "2    0.000232\n",
       "3    0.005050\n",
       "4   -0.012648\n",
       "5    0.000000\n",
       "Name: tip_amount, dtype: float64"
      ]
     },
     "metadata": {},
     "output_type": "display_data"
    },
    {
     "name": "stdout",
     "output_type": "stream",
     "text": [
      "calc_tip_average_by_payment execution time: 1.0147950649261475 s\n"
     ]
    }
   ],
   "source": [
    "t0 = time.time()\n",
    "result = calc_tip_average_by_payment(df)\n",
    "t1 = time.time()\n",
    "\n",
    "display(result)\n",
    "print('calc_tip_average_by_payment execution time:', t1 - t0, 's')"
   ]
  },
  {
   "cell_type": "markdown",
   "metadata": {},
   "source": [
    "If we measure the time inside the function, we can observe that the used time is very short."
   ]
  },
  {
   "cell_type": "code",
   "execution_count": 28,
   "metadata": {},
   "outputs": [
    {
     "name": "stderr",
     "output_type": "stream",
     "text": [
      "/home/xmn/.conda/envs/bodoai-nb/lib/python3.8/site-packages/bodo/transforms/distributed_analysis.py:180: BodoWarning: No parallelism found for function 'calc_tip_average_by_payment'. This could be due to unsupported usage. See distributed diagnostics for more information.\n",
      "  warnings.warn(BodoWarning(\n"
     ]
    },
    {
     "name": "stdout",
     "output_type": "stream",
     "text": [
      "calc_tip_average_by_payment execution time: 0.9820868968963623 s\n"
     ]
    },
    {
     "data": {
      "text/plain": [
       "payment_type\n",
       "1    2.758297\n",
       "2    0.000232\n",
       "3    0.005050\n",
       "4   -0.012648\n",
       "5    0.000000\n",
       "Name: tip_amount, dtype: float64"
      ]
     },
     "execution_count": 28,
     "metadata": {},
     "output_type": "execute_result"
    }
   ],
   "source": [
    "@bodo.jit\n",
    "def calc_tip_average_by_payment(df):\n",
    "    t0 = time.time()\n",
    "    result = df.groupby('payment_type').tip_amount.mean()\n",
    "    t1 = time.time()\n",
    "    print('calc_tip_average_by_payment execution time:', t1 - t0, 's')\n",
    "    return result\n",
    "\n",
    "\n",
    "calc_tip_average_by_payment(df)"
   ]
  },
  {
   "cell_type": "markdown",
   "metadata": {},
   "source": [
    "## References\n",
    "\n",
    "The original blob post that was used as inspiration here can be accessed at:\n",
    "- https://matthewrocklin.com/blog/work/2017/01/12/dask-dataframes\n",
    "\n",
    "For more informations about `bodo, check out its documentation page:\n",
    "- https://docs.bodo.ai/latest/source/user_guide.html\n",
    "\n",
    "And maybe you will find useful some extra information about spme `pandas` commands used:\n",
    "\n",
    "- https://pandas.pydata.org/pandas-docs/stable/user_guide/merging.html\n",
    "\n",
    "Also, if you want to check out some extra comment about some SQL topics:\n",
    "\n",
    "- https://en.wikipedia.org/wiki/Join_(SQL)\n",
    "\n",
    "For more information about Pearson correlation:\n",
    "\n",
    "- https://en.wikipedia.org/wiki/Pearson_correlation_coefficient\n",
    "\n",
    "Parquet documentation page:\n",
    "\n",
    "- https://parquet.apache.org/documentation/latest/"
   ]
  }
 ],
 "metadata": {
  "kernelspec": {
   "display_name": "Python 3",
   "language": "python",
   "name": "python3"
  },
  "language_info": {
   "codemirror_mode": {
    "name": "ipython",
    "version": 3
   },
   "file_extension": ".py",
   "mimetype": "text/x-python",
   "name": "python",
   "nbconvert_exporter": "python",
   "pygments_lexer": "ipython3",
   "version": "3.8.6"
  }
 },
 "nbformat": 4,
 "nbformat_minor": 4
}
