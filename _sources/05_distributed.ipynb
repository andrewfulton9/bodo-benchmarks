{
 "cells": [
  {
   "cell_type": "markdown",
   "metadata": {},
   "source": [
    "<img src=\"img/logo.svg\" align=\"right\" style=\"background:black;height:50px; padding-left:5px;padding-right:5px;padding-bottom:0px;\">"
   ]
  },
  {
   "cell_type": "markdown",
   "metadata": {},
   "source": [
    "# Distributed"
   ]
  },
  {
   "cell_type": "markdown",
   "metadata": {},
   "source": [
    "According to [Bodo documentation](https://docs.bodo.ai/latest/source/getting_started.html), \n",
    "*Bodo can scale your analytics code to thousands of cores, providing orders of magnitude speed up depending on program characteristics*. \n",
    "To accomplish that, **bodo** uses [MPI](https://en.wikipedia.org/wiki/Message_Passing_Interface)\n",
    "under the hood. In order oo used that, you need to:\n",
    "\n",
    "1. decorate your function with `bodo.jit`, and\n",
    "2. if you want to run a python script, use `mpiexec` or,\n",
    "3. if you are using `JupyterLab`, use [%%px magic](https://ipyparallel.readthedocs.io/en/latest/magics.html).\n",
    "\n",
    "As we are working here inside the **JupyterLab**, we will need to prepare the `%%px` magic:"
   ]
  },
  {
   "cell_type": "code",
   "execution_count": 1,
   "metadata": {},
   "outputs": [
    {
     "name": "stdout",
     "output_type": "stream",
     "text": [
      "[stdout:0] /home/xmn/dev/bodoai/bodo-benchmarks/notebooks\n",
      "[stdout:1] /home/xmn/dev/bodoai/bodo-benchmarks/notebooks\n",
      "[stdout:2] /home/xmn/dev/bodoai/bodo-benchmarks/notebooks\n",
      "[stdout:3] /home/xmn/dev/bodoai/bodo-benchmarks/notebooks\n"
     ]
    }
   ],
   "source": [
    "import ipyparallel as ipp\n",
    "c = ipp.Client(profile=\"mpi\")\n",
    "view = c[:]\n",
    "view.activate()\n",
    "view.block = True\n",
    "import os\n",
    "view[\"cwd\"] = os.getcwd()\n",
    "%px cd $cwd"
   ]
  },
  {
   "cell_type": "markdown",
   "metadata": {},
   "source": [
    "Now, lets create some dataset to test the parallelization with **bodo**."
   ]
  },
  {
   "cell_type": "code",
   "execution_count": 2,
   "metadata": {},
   "outputs": [],
   "source": [
    "import pandas as pd\n",
    "import numpy as np\n",
    "import bodo"
   ]
  },
  {
   "cell_type": "code",
   "execution_count": 3,
   "metadata": {},
   "outputs": [
    {
     "name": "stdout",
     "output_type": "stream",
     "text": [
      "           A         B\n",
      "0          0         0\n",
      "1          1         1\n",
      "2          2         2\n",
      "3          3         3\n",
      "4          4         4\n",
      "...       ..       ...\n",
      "19999995  15  19999995\n",
      "19999996  16  19999996\n",
      "19999997  17  19999997\n",
      "19999998  18  19999998\n",
      "19999999  19  19999999\n",
      "\n",
      "[20000000 rows x 2 columns]\n"
     ]
    }
   ],
   "source": [
    "NUM_GROUPS = 30\n",
    "NUM_ROWS = 20_000_000\n",
    "df = pd.DataFrame({\n",
    "    \"A\": np.arange(NUM_ROWS) % NUM_GROUPS,\n",
    "    \"B\": np.arange(NUM_ROWS)\n",
    "})\n",
    "df.to_parquet(\"data/example1.pq\")\n",
    "print(df)"
   ]
  },
  {
   "cell_type": "markdown",
   "metadata": {},
   "source": [
    "Now, run the following code to see its behavior."
   ]
  },
  {
   "cell_type": "code",
   "execution_count": 4,
   "metadata": {},
   "outputs": [
    {
     "name": "stdout",
     "output_type": "stream",
     "text": [
      "[stdout:0] 6666676000003\n",
      "[stdout:1] 6666676000003\n",
      "[stdout:2] 6666676000003\n",
      "[stdout:3] 6666676000003\n"
     ]
    }
   ],
   "source": [
    "%%px\n",
    "import bodo\n",
    "import pandas as pd\n",
    "\n",
    "@bodo.jit\n",
    "def test():\n",
    "    df = pd.read_parquet(\"data/example1.pq\")\n",
    "    df2 = df.groupby(\"A\").sum()\n",
    "    m = df2.B.max()\n",
    "    return m\n",
    "\n",
    "m = test()\n",
    "print(m)"
   ]
  },
  {
   "cell_type": "markdown",
   "metadata": {},
   "source": [
    "For this tutorial, we will use the same dataset used by the \n",
    "[dask tutorial](https://github.com/dask/dask-tutorial/)\n",
    "the code for the data preparation can be accessed at\n",
    "https://github.com/dask/dask-tutorial/blob/master/prep.py \n",
    "and it is under the license https://github.com/dask/dask-tutorial/blob/master/LICENSE.txt"
   ]
  },
  {
   "cell_type": "code",
   "execution_count": 5,
   "metadata": {},
   "outputs": [],
   "source": [
    "# data preparation\n",
    "from glob import glob\n",
    "import os\n",
    "import time\n",
    "import urllib.request\n",
    "import tarfile\n",
    "\n",
    "import pandas as pd\n",
    "\n",
    "\n",
    "def flights(small=None):\n",
    "    start = time.time()\n",
    "    \n",
    "    data_dir = './data/'\n",
    "    flights_url = \"https://storage.googleapis.com/dask-tutorial-data/nycflights.tar.gz\"\n",
    "    \n",
    "    flights_raw = os.path.join(data_dir, 'nycflights.tar.gz')\n",
    "    flightdir = os.path.join(data_dir, 'nycflights')\n",
    "    jsondir = os.path.join(data_dir, 'flightjson')\n",
    "    \n",
    "    if small is None:\n",
    "        small = bool(os.environ.get(\"DASK_TUTORIAL_SMALL\", False))\n",
    "\n",
    "    if small:\n",
    "        N = 500\n",
    "    else:\n",
    "        N = 10_000\n",
    "\n",
    "    if not os.path.exists(flights_raw):\n",
    "        print(\"- Downloading NYC Flights dataset... \", end='', flush=True)\n",
    "        url = flights_url\n",
    "        urllib.request.urlretrieve(url, flights_raw)\n",
    "        print(\"done\", flush=True)\n",
    "\n",
    "    if not os.path.exists(flightdir):\n",
    "        print(\"- Extracting flight data... \", end='', flush=True)\n",
    "        tar_path = os.path.join(data_dir, 'nycflights.tar.gz')\n",
    "        with tarfile.open(tar_path, mode='r:gz') as flights:\n",
    "            flights.extractall('data/')\n",
    "\n",
    "        if small:\n",
    "            for path in glob(os.path.join(data_dir, \"nycflights\", \"*.csv\")):\n",
    "                with open(path, 'r') as f:\n",
    "                    lines = f.readlines()[:1000]\n",
    "\n",
    "                with open(path, 'w') as f:\n",
    "                    f.writelines(lines)\n",
    "\n",
    "        print(\"done\", flush=True)\n",
    "\n",
    "    if not os.path.exists(jsondir):\n",
    "        print(\"- Creating json data... \", end='', flush=True)\n",
    "        os.mkdir(jsondir)\n",
    "        for path in glob(os.path.join(data_dir, 'nycflights', '*.csv')):\n",
    "            prefix = os.path.splitext(os.path.basename(path))[0]\n",
    "            df = pd.read_csv(path, nrows=N)\n",
    "            df.to_json(os.path.join(data_dir, 'flightjson', prefix + '.json'),\n",
    "                       orient='records', lines=True)\n",
    "        print(\"done\", flush=True)\n",
    "    else:\n",
    "        return\n",
    "\n",
    "    end = time.time()\n",
    "    print(\"** Created flights dataset! in {:0.2f}s**\".format(end - start))\n",
    "    \n",
    "    \n",
    "flights()"
   ]
  },
  {
   "cell_type": "markdown",
   "metadata": {},
   "source": [
    "You can read **CSV** files using **bodo** in a similar way you would do using **dask** \n",
    "or **pandas**, actually you will use the pandas command `read_csv` inside a `bodo.jit`\n",
    "function:"
   ]
  },
  {
   "cell_type": "code",
   "execution_count": 6,
   "metadata": {},
   "outputs": [
    {
     "name": "stderr",
     "output_type": "stream",
     "text": [
      "/home/xmn/.conda/envs/bodoai-nb/lib/python3.8/site-packages/bodo/transforms/distributed_analysis.py:182: BodoWarning: No parallelism found for function 'read_flight_csv'. This could be due to unsupported usage. See distributed diagnostics for more information.\n",
      "  warnings.warn(BodoWarning(\n"
     ]
    },
    {
     "name": "stdout",
     "output_type": "stream",
     "text": [
      "7.5921385288238525 s\n"
     ]
    },
    {
     "data": {
      "text/html": [
       "<div>\n",
       "<style scoped>\n",
       "    .dataframe tbody tr th:only-of-type {\n",
       "        vertical-align: middle;\n",
       "    }\n",
       "\n",
       "    .dataframe tbody tr th {\n",
       "        vertical-align: top;\n",
       "    }\n",
       "\n",
       "    .dataframe thead th {\n",
       "        text-align: right;\n",
       "    }\n",
       "</style>\n",
       "<table border=\"1\" class=\"dataframe\">\n",
       "  <thead>\n",
       "    <tr style=\"text-align: right;\">\n",
       "      <th></th>\n",
       "      <th>Year</th>\n",
       "      <th>Month</th>\n",
       "      <th>DayofMonth</th>\n",
       "      <th>DayOfWeek</th>\n",
       "      <th>DepTime</th>\n",
       "      <th>CRSDepTime</th>\n",
       "      <th>ArrTime</th>\n",
       "      <th>CRSArrTime</th>\n",
       "      <th>UniqueCarrier</th>\n",
       "      <th>FlightNum</th>\n",
       "      <th>...</th>\n",
       "      <th>AirTime</th>\n",
       "      <th>ArrDelay</th>\n",
       "      <th>DepDelay</th>\n",
       "      <th>Origin</th>\n",
       "      <th>Dest</th>\n",
       "      <th>Distance</th>\n",
       "      <th>TaxiIn</th>\n",
       "      <th>TaxiOut</th>\n",
       "      <th>Cancelled</th>\n",
       "      <th>Diverted</th>\n",
       "    </tr>\n",
       "  </thead>\n",
       "  <tbody>\n",
       "    <tr>\n",
       "      <th>0</th>\n",
       "      <td>1990</td>\n",
       "      <td>1</td>\n",
       "      <td>1</td>\n",
       "      <td>1</td>\n",
       "      <td>1621.0</td>\n",
       "      <td>1540.0</td>\n",
       "      <td>1747.0</td>\n",
       "      <td>1701.0</td>\n",
       "      <td>US</td>\n",
       "      <td>33</td>\n",
       "      <td>...</td>\n",
       "      <td>NaN</td>\n",
       "      <td>46.0</td>\n",
       "      <td>41.0</td>\n",
       "      <td>EWR</td>\n",
       "      <td>PIT</td>\n",
       "      <td>319.0</td>\n",
       "      <td>NaN</td>\n",
       "      <td>NaN</td>\n",
       "      <td>False</td>\n",
       "      <td>False</td>\n",
       "    </tr>\n",
       "    <tr>\n",
       "      <th>1</th>\n",
       "      <td>1990</td>\n",
       "      <td>1</td>\n",
       "      <td>2</td>\n",
       "      <td>2</td>\n",
       "      <td>1547.0</td>\n",
       "      <td>1540.0</td>\n",
       "      <td>1700.0</td>\n",
       "      <td>1701.0</td>\n",
       "      <td>US</td>\n",
       "      <td>33</td>\n",
       "      <td>...</td>\n",
       "      <td>NaN</td>\n",
       "      <td>-1.0</td>\n",
       "      <td>7.0</td>\n",
       "      <td>EWR</td>\n",
       "      <td>PIT</td>\n",
       "      <td>319.0</td>\n",
       "      <td>NaN</td>\n",
       "      <td>NaN</td>\n",
       "      <td>False</td>\n",
       "      <td>False</td>\n",
       "    </tr>\n",
       "    <tr>\n",
       "      <th>2</th>\n",
       "      <td>1990</td>\n",
       "      <td>1</td>\n",
       "      <td>3</td>\n",
       "      <td>3</td>\n",
       "      <td>1546.0</td>\n",
       "      <td>1540.0</td>\n",
       "      <td>1710.0</td>\n",
       "      <td>1701.0</td>\n",
       "      <td>US</td>\n",
       "      <td>33</td>\n",
       "      <td>...</td>\n",
       "      <td>NaN</td>\n",
       "      <td>9.0</td>\n",
       "      <td>6.0</td>\n",
       "      <td>EWR</td>\n",
       "      <td>PIT</td>\n",
       "      <td>319.0</td>\n",
       "      <td>NaN</td>\n",
       "      <td>NaN</td>\n",
       "      <td>False</td>\n",
       "      <td>False</td>\n",
       "    </tr>\n",
       "    <tr>\n",
       "      <th>3</th>\n",
       "      <td>1990</td>\n",
       "      <td>1</td>\n",
       "      <td>4</td>\n",
       "      <td>4</td>\n",
       "      <td>1542.0</td>\n",
       "      <td>1540.0</td>\n",
       "      <td>1710.0</td>\n",
       "      <td>1701.0</td>\n",
       "      <td>US</td>\n",
       "      <td>33</td>\n",
       "      <td>...</td>\n",
       "      <td>NaN</td>\n",
       "      <td>9.0</td>\n",
       "      <td>2.0</td>\n",
       "      <td>EWR</td>\n",
       "      <td>PIT</td>\n",
       "      <td>319.0</td>\n",
       "      <td>NaN</td>\n",
       "      <td>NaN</td>\n",
       "      <td>False</td>\n",
       "      <td>False</td>\n",
       "    </tr>\n",
       "    <tr>\n",
       "      <th>4</th>\n",
       "      <td>1990</td>\n",
       "      <td>1</td>\n",
       "      <td>5</td>\n",
       "      <td>5</td>\n",
       "      <td>1549.0</td>\n",
       "      <td>1540.0</td>\n",
       "      <td>1706.0</td>\n",
       "      <td>1701.0</td>\n",
       "      <td>US</td>\n",
       "      <td>33</td>\n",
       "      <td>...</td>\n",
       "      <td>NaN</td>\n",
       "      <td>5.0</td>\n",
       "      <td>9.0</td>\n",
       "      <td>EWR</td>\n",
       "      <td>PIT</td>\n",
       "      <td>319.0</td>\n",
       "      <td>NaN</td>\n",
       "      <td>NaN</td>\n",
       "      <td>False</td>\n",
       "      <td>False</td>\n",
       "    </tr>\n",
       "  </tbody>\n",
       "</table>\n",
       "<p>5 rows × 23 columns</p>\n",
       "</div>"
      ],
      "text/plain": [
       "   Year  Month  DayofMonth  DayOfWeek  DepTime  CRSDepTime  ArrTime  \\\n",
       "0  1990      1           1          1   1621.0      1540.0   1747.0   \n",
       "1  1990      1           2          2   1547.0      1540.0   1700.0   \n",
       "2  1990      1           3          3   1546.0      1540.0   1710.0   \n",
       "3  1990      1           4          4   1542.0      1540.0   1710.0   \n",
       "4  1990      1           5          5   1549.0      1540.0   1706.0   \n",
       "\n",
       "   CRSArrTime UniqueCarrier  FlightNum  ... AirTime  ArrDelay  DepDelay  \\\n",
       "0      1701.0            US         33  ...     NaN      46.0      41.0   \n",
       "1      1701.0            US         33  ...     NaN      -1.0       7.0   \n",
       "2      1701.0            US         33  ...     NaN       9.0       6.0   \n",
       "3      1701.0            US         33  ...     NaN       9.0       2.0   \n",
       "4      1701.0            US         33  ...     NaN       5.0       9.0   \n",
       "\n",
       "   Origin  Dest  Distance TaxiIn TaxiOut  Cancelled  Diverted  \n",
       "0     EWR   PIT     319.0    NaN     NaN      False     False  \n",
       "1     EWR   PIT     319.0    NaN     NaN      False     False  \n",
       "2     EWR   PIT     319.0    NaN     NaN      False     False  \n",
       "3     EWR   PIT     319.0    NaN     NaN      False     False  \n",
       "4     EWR   PIT     319.0    NaN     NaN      False     False  \n",
       "\n",
       "[5 rows x 23 columns]"
      ]
     },
     "execution_count": 6,
     "metadata": {},
     "output_type": "execute_result"
    }
   ],
   "source": [
    "import bodo\n",
    "import pandas as pd\n",
    "import numpy as np\n",
    "\n",
    "@bodo.jit\n",
    "def read_flight_csv():\n",
    "    return pd.read_csv(\n",
    "        'data/nycflights/',\n",
    "        parse_dates={'Date': [0, 1, 2]},\n",
    "        # it needs all fields here\n",
    "        dtype={\n",
    "            'Year': np.int16,\n",
    "            'Month': np.int8,\n",
    "            'DayofMonth': np.int8,\n",
    "            'DayOfWeek': np.int8,\n",
    "            'DepTime': np.float32,\n",
    "            'CRSDepTime': np.float32,\n",
    "            'ArrTime': np.float32,\n",
    "            'CRSArrTime': np.float32,\n",
    "            'UniqueCarrier': str,\n",
    "            'FlightNum': np.int16,\n",
    "            'TailNum': str,\n",
    "            'ActualElapsedTime': np.float32,\n",
    "            'CRSElapsedTime': np.float32,\n",
    "            'AirTime': np.float32,\n",
    "            'ArrDelay': np.float32,\n",
    "            'DepDelay': np.float32,\n",
    "            'Origin': str,\n",
    "            'Dest': str,\n",
    "            'Distance': np.float32,\n",
    "            'TaxiIn': np.float32,\n",
    "            'TaxiOut': np.float32,\n",
    "            'Cancelled': np.bool_,\n",
    "            'Diverted': np.bool_,\n",
    "        }\n",
    "    )\n",
    "\n",
    "t0 = time.time()\n",
    "df = read_flight_csv()\n",
    "t1 = time.time()\n",
    "\n",
    "print(t1 - t0, 's')\n",
    "\n",
    "df.head()"
   ]
  },
  {
   "cell_type": "markdown",
   "metadata": {},
   "source": [
    "You can also run it using `%%px` command: "
   ]
  },
  {
   "cell_type": "code",
   "execution_count": 7,
   "metadata": {},
   "outputs": [
    {
     "name": "stdout",
     "output_type": "stream",
     "text": [
      "[stdout:0] 7.619726657867432 s\n",
      "[stdout:1] 7.535857915878296 s\n",
      "[stdout:2] 7.503788232803345 s\n",
      "[stdout:3] 7.51956582069397 s\n"
     ]
    },
    {
     "name": "stderr",
     "output_type": "stream",
     "text": [
      "[stderr:0] \n",
      "/home/xmn/.conda/envs/bodoai-nb/lib/python3.8/site-packages/bodo/transforms/distributed_analysis.py:182: BodoWarning: No parallelism found for function 'read_flight_csv'. This could be due to unsupported usage. See distributed diagnostics for more information.\n",
      "  warnings.warn(BodoWarning(\n"
     ]
    }
   ],
   "source": [
    "%%px\n",
    "import time\n",
    "\n",
    "import bodo\n",
    "import pandas as pd\n",
    "import numpy as np\n",
    "\n",
    "@bodo.jit\n",
    "def read_flight_csv():\n",
    "    return pd.read_csv(\n",
    "        'data/nycflights/',\n",
    "        parse_dates={'Date': [0, 1, 2]},\n",
    "        # it needs all fields here\n",
    "        dtype={\n",
    "            'Year': np.int16,\n",
    "            'Month': np.int8,\n",
    "            'DayofMonth': np.int8,\n",
    "            'DayOfWeek': np.int8,\n",
    "            'DepTime': np.float32,\n",
    "            'CRSDepTime': np.float32,\n",
    "            'ArrTime': np.float32,\n",
    "            'CRSArrTime': np.float32,\n",
    "            'UniqueCarrier': str,\n",
    "            'FlightNum': np.int16,\n",
    "            'TailNum': str,\n",
    "            'ActualElapsedTime': np.float32,\n",
    "            'CRSElapsedTime': np.float32,\n",
    "            'AirTime': np.float32,\n",
    "            'ArrDelay': np.float32,\n",
    "            'DepDelay': np.float32,\n",
    "            'Origin': str,\n",
    "            'Dest': str,\n",
    "            'Distance': np.float32,\n",
    "            'TaxiIn': np.float32,\n",
    "            'TaxiOut': np.float32,\n",
    "            'Cancelled': np.bool_,\n",
    "            'Diverted': np.bool_,\n",
    "        }\n",
    "    )\n",
    "\n",
    "t0 = time.time()\n",
    "df = read_flight_csv()\n",
    "t1 = time.time()\n",
    "\n",
    "print(t1 - t0, 's')"
   ]
  },
  {
   "cell_type": "markdown",
   "metadata": {},
   "source": [
    "As you can see, it will result in 4 outputs, one for each process."
   ]
  },
  {
   "cell_type": "markdown",
   "metadata": {},
   "source": [
    "Now, lets try to calculate some interesting information. We will get maximum \n",
    "average non-cancelled delay grouped by Airport."
   ]
  },
  {
   "cell_type": "code",
   "execution_count": 8,
   "metadata": {},
   "outputs": [
    {
     "name": "stderr",
     "output_type": "stream",
     "text": [
      "/home/xmn/.conda/envs/bodoai-nb/lib/python3.8/site-packages/bodo/transforms/distributed_analysis.py:182: BodoWarning: No parallelism found for function 'get_largest_delay'. This could be due to unsupported usage. See distributed diagnostics for more information.\n",
      "  warnings.warn(BodoWarning(\n"
     ]
    },
    {
     "name": "stdout",
     "output_type": "stream",
     "text": [
      "10.188231229782104 s\n"
     ]
    }
   ],
   "source": [
    "@bodo.jit\n",
    "def get_largest_delay(df):\n",
    "    # Maximum average non-cancelled delay grouped by Airport\n",
    "    return df[~df.Cancelled].groupby('Origin').DepDelay.mean().max()\n",
    "\n",
    "\n",
    "t0 = time.time()\n",
    "largest_delay = get_largest_delay(df)\n",
    "t1 = time.time()\n",
    "\n",
    "print(t1 - t0, 's')"
   ]
  },
  {
   "cell_type": "markdown",
   "metadata": {},
   "source": [
    "And we can do same thing but using `%%px`: "
   ]
  },
  {
   "cell_type": "code",
   "execution_count": 9,
   "metadata": {},
   "outputs": [
    {
     "name": "stdout",
     "output_type": "stream",
     "text": [
      "[stdout:0] 3.4489574432373047 s\n",
      "[stdout:1] 3.4456801414489746 s\n",
      "[stdout:2] 3.4475417137145996 s\n",
      "[stdout:3] 3.4464614391326904 s\n"
     ]
    },
    {
     "name": "stderr",
     "output_type": "stream",
     "text": [
      "[stderr:0] \n",
      "/home/xmn/.conda/envs/bodoai-nb/lib/python3.8/site-packages/bodo/transforms/distributed_analysis.py:182: BodoWarning: No parallelism found for function 'get_largest_delay'. This could be due to unsupported usage. See distributed diagnostics for more information.\n",
      "  warnings.warn(BodoWarning(\n"
     ]
    }
   ],
   "source": [
    "%%px\n",
    "\n",
    "@bodo.jit\n",
    "def get_largest_delay(df):\n",
    "    # Maximum average non-cancelled delay grouped by Airport\n",
    "    return df[~df.Cancelled].groupby('Origin').DepDelay.mean().max()\n",
    "\n",
    "\n",
    "t0 = time.time()\n",
    "largest_delay = get_largest_delay(df)\n",
    "t1 = time.time()\n",
    "\n",
    "print(t1 - t0, 's')"
   ]
  },
  {
   "cell_type": "markdown",
   "metadata": {},
   "source": [
    "For the next examples, we will use just the `%%px` approach."
   ]
  },
  {
   "cell_type": "markdown",
   "metadata": {},
   "source": [
    "### Some Questions to Consider:\n",
    "\n",
    "- How much speedup is possible using **bodo** in a single core.\n",
    "- Given how many cores are on this machine, how much faster could the parallel processing be than the single-threaded one.\n",
    "- Could it be faster using eager compilation approach?\n",
    "\n",
    "For the first time calling a `jitted` function, it will compile the function for the parameters passed.\n",
    "So, it will take an extra time for the compilation. For the second time calling the function, as it is already \n",
    "compiled, it should be faster than before. One way to avoid this extra time when calling a function for the first\n",
    "time is to compile it when you are defining your function. This is also know as **eager compilation**. For example:"
   ]
  },
  {
   "cell_type": "code",
   "execution_count": 10,
   "metadata": {},
   "outputs": [
    {
     "data": {
      "text/plain": [
       "\u001b[0;31mOut[0:17]: \u001b[0m3"
      ]
     },
     "metadata": {
      "after": [],
      "completed": "2021-01-08T03:01:34.870533",
      "data": {},
      "engine_id": 0,
      "engine_uuid": "a8dd9ca9-82f734c28d8b09b19c7eb78c",
      "error": null,
      "execute_input": "\nimport bodo\n\n@bodo.jit('int64(int64,int64)')\ndef calc_add(a: int, b: int) -> int:\n    return a + b\n\n\ncalc_add(1, 2)\n",
      "execute_result": {
       "data": {
        "text/plain": "3"
       },
       "execution_count": 17,
       "metadata": {}
      },
      "follow": [],
      "msg_id": "6b891928-fe6d30ca21022e163b139644_21",
      "outputs": [],
      "received": "2021-01-08T03:01:34.876746",
      "started": "2021-01-08T03:01:34.819294",
      "status": "ok",
      "stderr": "",
      "stdout": "",
      "submitted": "2021-01-08T03:01:34.815499"
     },
     "output_type": "display_data"
    },
    {
     "data": {
      "text/plain": [
       "\u001b[0;31mOut[1:17]: \u001b[0m3"
      ]
     },
     "metadata": {
      "after": [],
      "completed": "2021-01-08T03:01:34.870548",
      "data": {},
      "engine_id": 1,
      "engine_uuid": "1466e4c1-96a6ee018765323da7a51242",
      "error": null,
      "execute_input": "\nimport bodo\n\n@bodo.jit('int64(int64,int64)')\ndef calc_add(a: int, b: int) -> int:\n    return a + b\n\n\ncalc_add(1, 2)\n",
      "execute_result": {
       "data": {
        "text/plain": "3"
       },
       "execution_count": 17,
       "metadata": {}
      },
      "follow": [],
      "msg_id": "6b891928-fe6d30ca21022e163b139644_22",
      "outputs": [],
      "received": "2021-01-08T03:01:34.875401",
      "started": "2021-01-08T03:01:34.819994",
      "status": "ok",
      "stderr": "",
      "stdout": "",
      "submitted": "2021-01-08T03:01:34.815994"
     },
     "output_type": "display_data"
    },
    {
     "data": {
      "text/plain": [
       "\u001b[0;31mOut[2:17]: \u001b[0m3"
      ]
     },
     "metadata": {
      "after": [],
      "completed": "2021-01-08T03:01:34.870040",
      "data": {},
      "engine_id": 2,
      "engine_uuid": "d359d23d-bef1381bd37b9a7cf9b89666",
      "error": null,
      "execute_input": "\nimport bodo\n\n@bodo.jit('int64(int64,int64)')\ndef calc_add(a: int, b: int) -> int:\n    return a + b\n\n\ncalc_add(1, 2)\n",
      "execute_result": {
       "data": {
        "text/plain": "3"
       },
       "execution_count": 17,
       "metadata": {}
      },
      "follow": [],
      "msg_id": "6b891928-fe6d30ca21022e163b139644_23",
      "outputs": [],
      "received": "2021-01-08T03:01:34.872755",
      "started": "2021-01-08T03:01:34.819187",
      "status": "ok",
      "stderr": "",
      "stdout": "",
      "submitted": "2021-01-08T03:01:34.816126"
     },
     "output_type": "display_data"
    },
    {
     "data": {
      "text/plain": [
       "\u001b[0;31mOut[3:17]: \u001b[0m3"
      ]
     },
     "metadata": {
      "after": [],
      "completed": "2021-01-08T03:01:34.870196",
      "data": {},
      "engine_id": 3,
      "engine_uuid": "8003243d-fecbbb08dcbe3cf20eeecc3a",
      "error": null,
      "execute_input": "\nimport bodo\n\n@bodo.jit('int64(int64,int64)')\ndef calc_add(a: int, b: int) -> int:\n    return a + b\n\n\ncalc_add(1, 2)\n",
      "execute_result": {
       "data": {
        "text/plain": "3"
       },
       "execution_count": 17,
       "metadata": {}
      },
      "follow": [],
      "msg_id": "6b891928-fe6d30ca21022e163b139644_24",
      "outputs": [],
      "received": "2021-01-08T03:01:34.874104",
      "started": "2021-01-08T03:01:34.819926",
      "status": "ok",
      "stderr": "",
      "stdout": "",
      "submitted": "2021-01-08T03:01:34.816536"
     },
     "output_type": "display_data"
    }
   ],
   "source": [
    "%%px\n",
    "\n",
    "import bodo\n",
    "\n",
    "@bodo.jit('int64(int64,int64)')\n",
    "def calc_add(a: int, b: int) -> int:\n",
    "    return a + b\n",
    "\n",
    "\n",
    "calc_add(1, 2)"
   ]
  },
  {
   "cell_type": "markdown",
   "metadata": {},
   "source": [
    "As you can see, you can pass to `bodo.jit` decorator the information about the parameters and return types. \n",
    "In this way, the `jit` decorator will compile the function for that specific signature."
   ]
  },
  {
   "cell_type": "markdown",
   "metadata": {},
   "source": [
    "## Making a cluster"
   ]
  },
  {
   "cell_type": "markdown",
   "metadata": {},
   "source": [
    "### IPython parallel"
   ]
  },
  {
   "cell_type": "markdown",
   "metadata": {},
   "source": [
    "As you can observe in the initial of this document, if you want to use `%%px` \n",
    "to process your code in parallel (that uses **MPI** under the hood), you need \n",
    "first to define a **IPython Parallel Client** and a profile (here we are using \n",
    "a profile calle **mpi**).\n",
    "\n",
    "At this point, if you followed first the \n",
    "[Introductory notebook](https://quansight.github.io/bodo-benchmarks/00_introduction.html)\n",
    "you should have already the environment working. But it is important to understand\n",
    "what is happening here.\n",
    "\n",
    "First, you need to create the **IPython** profile. In a terminal, run the following commands:\n",
    "\n",
    "```sh\n",
    "ipython profile create --parallel --profile=mpi\n",
    "```\n",
    "\n",
    "Now, you need to start your clusters for the profile you just created:\n",
    "\n",
    "```sh\n",
    "ipcluster start -n 4 --profile=mpi &\n",
    "```\n",
    "\n",
    "The clusters are now available, and you can connect from the **Jupyter notebook** using\n",
    "`ipyparallel`:"
   ]
  },
  {
   "cell_type": "code",
   "execution_count": 11,
   "metadata": {},
   "outputs": [
    {
     "name": "stdout",
     "output_type": "stream",
     "text": [
      "[stdout:0] /home/xmn/dev/bodoai/bodo-benchmarks/notebooks\n",
      "[stdout:1] /home/xmn/dev/bodoai/bodo-benchmarks/notebooks\n",
      "[stdout:2] /home/xmn/dev/bodoai/bodo-benchmarks/notebooks\n",
      "[stdout:3] /home/xmn/dev/bodoai/bodo-benchmarks/notebooks\n"
     ]
    }
   ],
   "source": [
    "import ipyparallel as ipp\n",
    "\n",
    "c = ipp.Client(profile=\"mpi\")\n",
    "view = c[:]\n",
    "view.activate()\n",
    "view.block = True\n",
    "\n",
    "import os\n",
    "\n",
    "view[\"cwd\"] = os.getcwd()\n",
    "%px cd $cwd"
   ]
  },
  {
   "cell_type": "markdown",
   "metadata": {},
   "source": [
    "For more informantion about how to use **ipyparallel** with **MPI**, please check the \n",
    "[documentation page](https://ipyparallel.readthedocs.io/en/latest/mpi.html)"
   ]
  },
  {
   "cell_type": "markdown",
   "metadata": {},
   "source": [
    "## References\n",
    "\n",
    "This notebook was inpired by\n",
    "[Dask tutorials](https://github.com/dask/dask-tutorial/) and \n",
    "[Bodo documentation](https://docs.bodo.ai/latest/source/getting_started.html)."
   ]
  }
 ],
 "metadata": {
  "anaconda-cloud": {},
  "kernelspec": {
   "display_name": "Python 3",
   "language": "python",
   "name": "python3"
  },
  "language_info": {
   "codemirror_mode": {
    "name": "ipython",
    "version": 3
   },
   "file_extension": ".py",
   "mimetype": "text/x-python",
   "name": "python",
   "nbconvert_exporter": "python",
   "pygments_lexer": "ipython3",
   "version": "3.8.6"
  }
 },
 "nbformat": 4,
 "nbformat_minor": 4
}
